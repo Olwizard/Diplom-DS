{
 "cells": [
  {
   "cell_type": "markdown",
   "metadata": {},
   "source": [
    "## <center>Дипломный проект. \n",
    "\n",
    "### <center>«Модель прогнозирования стоимости жилья для агентства недвижимости»"
   ]
  },
  {
   "cell_type": "code",
   "execution_count": 1,
   "metadata": {},
   "outputs": [],
   "source": [
    "import pandas as pd\n",
    "import numpy as np\n",
    "import re\n",
    "from zipfile import ZipFile\n",
    "\n",
    "import warnings \n",
    "warnings.filterwarnings(\"ignore\")\n",
    "\n",
    "import matplotlib.pyplot as plt\n",
    "import seaborn as sns\n",
    "\n",
    "from sklearn.preprocessing import LabelBinarizer, MultiLabelBinarizer, binarize, LabelEncoder, OneHotEncoder\n",
    "import category_encoders as ce # импорт для работы с кодировщиком\n",
    "from sklearn.ensemble import RandomForestRegressor\n",
    "from sklearn.model_selection import train_test_split \n",
    "from catboost import CatBoostRegressor, Pool, CatBoostClassifier\n",
    "from sklearn import metrics\n",
    "\n",
    "import optuna\n",
    "\n",
    "import warnings # для игнорирования предупреждений\n",
    "#Игнорируем варнинги\n",
    "warnings.filterwarnings('ignore')"
   ]
  },
  {
   "cell_type": "code",
   "execution_count": 12,
   "metadata": {},
   "outputs": [],
   "source": [
    "with ZipFile(\"data/data.csv.zip\") as myzip:\n",
    "    data_r = myzip.open(\"data.csv\")\n",
    "df = pd.read_csv(data_r)"
   ]
  },
  {
   "cell_type": "markdown",
   "metadata": {},
   "source": [
    "### Признаки в данных\n",
    "\n",
    "* 'status' — статус продажи;\n",
    "* 'private pool' и 'PrivatePool' — наличие собственного бассейна;\n",
    "* 'propertyType' — тип объекта недвижимости;\n",
    "* 'street' — адрес объекта;\n",
    "* 'baths' — количество ванных комнат;\n",
    "* 'homeFacts' — сведения о строительстве объекта (содержит несколько типов сведений, влияющих на оценку объекта);\n",
    "* 'fireplace' — наличие камина;\n",
    "* 'city' — город;\n",
    "* 'schools' — сведения о школах в районе;\n",
    "* 'sqft' — площадь в футах;\n",
    "* 'zipcode' — почтовый индекс;\n",
    "* 'beds' — количество спален;\n",
    "* 'state' — штат;\n",
    "* 'stories' — количество этажей;\n",
    "* 'mls-id' и 'MlsId' — идентификатор MLS (Multiple Listing Service, система мультилистинга);\n",
    "* 'target' — цена объекта недвижимости (целевой признак, который необходимо спрогнозировать)."
   ]
  },
  {
   "cell_type": "code",
   "execution_count": 13,
   "metadata": {},
   "outputs": [
    {
     "name": "stdout",
     "output_type": "stream",
     "text": [
      "<class 'pandas.core.frame.DataFrame'>\n",
      "RangeIndex: 377185 entries, 0 to 377184\n",
      "Data columns (total 18 columns):\n",
      " #   Column        Non-Null Count   Dtype \n",
      "---  ------        --------------   ----- \n",
      " 0   status        337267 non-null  object\n",
      " 1   private pool  4181 non-null    object\n",
      " 2   propertyType  342452 non-null  object\n",
      " 3   street        377183 non-null  object\n",
      " 4   baths         270847 non-null  object\n",
      " 5   homeFacts     377185 non-null  object\n",
      " 6   fireplace     103114 non-null  object\n",
      " 7   city          377151 non-null  object\n",
      " 8   schools       377185 non-null  object\n",
      " 9   sqft          336608 non-null  object\n",
      " 10  zipcode       377185 non-null  object\n",
      " 11  beds          285903 non-null  object\n",
      " 12  state         377185 non-null  object\n",
      " 13  stories       226469 non-null  object\n",
      " 14  mls-id        24942 non-null   object\n",
      " 15  PrivatePool   40311 non-null   object\n",
      " 16  MlsId         310305 non-null  object\n",
      " 17  target        374704 non-null  object\n",
      "dtypes: object(18)\n",
      "memory usage: 51.8+ MB\n"
     ]
    }
   ],
   "source": [
    "data = df.copy()\n",
    "data.info()"
   ]
  },
  {
   "cell_type": "code",
   "execution_count": 6,
   "metadata": {},
   "outputs": [
    {
     "data": {
      "text/html": [
       "<div>\n",
       "<style scoped>\n",
       "    .dataframe tbody tr th:only-of-type {\n",
       "        vertical-align: middle;\n",
       "    }\n",
       "\n",
       "    .dataframe tbody tr th {\n",
       "        vertical-align: top;\n",
       "    }\n",
       "\n",
       "    .dataframe thead th {\n",
       "        text-align: right;\n",
       "    }\n",
       "</style>\n",
       "<table border=\"1\" class=\"dataframe\">\n",
       "  <thead>\n",
       "    <tr style=\"text-align: right;\">\n",
       "      <th></th>\n",
       "      <th>status</th>\n",
       "      <th>private pool</th>\n",
       "      <th>propertyType</th>\n",
       "      <th>street</th>\n",
       "      <th>baths</th>\n",
       "      <th>homeFacts</th>\n",
       "      <th>fireplace</th>\n",
       "      <th>city</th>\n",
       "      <th>schools</th>\n",
       "      <th>sqft</th>\n",
       "      <th>zipcode</th>\n",
       "      <th>beds</th>\n",
       "      <th>state</th>\n",
       "      <th>stories</th>\n",
       "      <th>mls-id</th>\n",
       "      <th>PrivatePool</th>\n",
       "      <th>MlsId</th>\n",
       "      <th>target</th>\n",
       "    </tr>\n",
       "  </thead>\n",
       "  <tbody>\n",
       "    <tr>\n",
       "      <th>0</th>\n",
       "      <td>Active</td>\n",
       "      <td>NaN</td>\n",
       "      <td>Single Family Home</td>\n",
       "      <td>240 Heather Ln</td>\n",
       "      <td>3.5</td>\n",
       "      <td>{'atAGlanceFacts': [{'factValue': '2019', 'fac...</td>\n",
       "      <td>Gas Logs</td>\n",
       "      <td>Southern Pines</td>\n",
       "      <td>[{'rating': ['4', '4', '7', 'NR', '4', '7', 'N...</td>\n",
       "      <td>2900</td>\n",
       "      <td>28387</td>\n",
       "      <td>4</td>\n",
       "      <td>NC</td>\n",
       "      <td>NaN</td>\n",
       "      <td>NaN</td>\n",
       "      <td>NaN</td>\n",
       "      <td>611019</td>\n",
       "      <td>$418,000</td>\n",
       "    </tr>\n",
       "  </tbody>\n",
       "</table>\n",
       "</div>"
      ],
      "text/plain": [
       "   status private pool        propertyType          street baths  \\\n",
       "0  Active          NaN  Single Family Home  240 Heather Ln   3.5   \n",
       "\n",
       "                                           homeFacts fireplace  \\\n",
       "0  {'atAGlanceFacts': [{'factValue': '2019', 'fac...  Gas Logs   \n",
       "\n",
       "             city                                            schools  sqft  \\\n",
       "0  Southern Pines  [{'rating': ['4', '4', '7', 'NR', '4', '7', 'N...  2900   \n",
       "\n",
       "  zipcode beds state stories mls-id PrivatePool   MlsId    target  \n",
       "0   28387    4    NC     NaN    NaN         NaN  611019  $418,000  "
      ]
     },
     "execution_count": 6,
     "metadata": {},
     "output_type": "execute_result"
    }
   ],
   "source": [
    "data.head(1)"
   ]
  },
  {
   "cell_type": "code",
   "execution_count": 14,
   "metadata": {},
   "outputs": [
    {
     "name": "stdout",
     "output_type": "stream",
     "text": [
      "Количество дубликатов в данных: 50\n",
      "Количество дубликатов в данных после удаления: 0\n"
     ]
    }
   ],
   "source": [
    "# Поиск и удаление дубликатов в данных\n",
    "print(f'Количество дубликатов в данных: {data.duplicated().sum()}')\n",
    "data.drop_duplicates(inplace=True, ignore_index=True)\n",
    "print(f'Количество дубликатов в данных после удаления: {data.duplicated().sum()}')"
   ]
  },
  {
   "cell_type": "markdown",
   "metadata": {},
   "source": [
    "Проверка на выбросы по колонке target"
   ]
  },
  {
   "cell_type": "code",
   "execution_count": 15,
   "metadata": {},
   "outputs": [
    {
     "name": "stdout",
     "output_type": "stream",
     "text": [
      "[330432]\n"
     ]
    }
   ],
   "source": [
    "# Замена текстовых символов в данных и поиск индексов с ошибками\n",
    "list_garbage = []\n",
    "for y in range(data.shape[0]):\n",
    "    try:\n",
    "        data.loc[y, 'target'] = int(str(data['target'][y]).replace('$', '').replace(',', '').replace('+', '').replace('nan', '0')\\\n",
    "            .replace('/mo', ''))\n",
    "    except ValueError:\n",
    "        list_garbage.append(y)\n",
    "\n",
    "print(list_garbage)\n",
    "# С ошибкой был один индекс который содержал данные отличные от всех. Преобразование к формату без лишлих символов\n",
    "data.loc[330432, 'target'] = data['target'][330432].replace('$', '').replace(',', '').replace('/mo', '').split('-')\n",
    "data.loc[330432, 'target'] = data['target'][330432][1].strip()\n",
    "\n",
    "# Преобразование данных к формату int32\n",
    "data = data.astype({'target': 'int32'})"
   ]
  },
  {
   "cell_type": "code",
   "execution_count": 230,
   "metadata": {},
   "outputs": [
    {
     "data": {
      "image/png": "[encoded data removed]",
      "text/plain": [
       "<Figure size 1500x400 with 2 Axes>"
      ]
     },
     "metadata": {},
     "output_type": "display_data"
    }
   ],
   "source": [
    "fig, axes = plt.subplots(nrows=1, ncols=2, figsize=(15, 4))\n",
    "histplot = sns.histplot(data=data, x='target', ax=axes[0]);\n",
    "histplot.set_title('Full Distribution');\n",
    "boxplot = sns.boxplot(data=data, x='target', ax=axes[1]);\n",
    "boxplot.set_title('Full Boxplot');"
   ]
  },
  {
   "cell_type": "markdown",
   "metadata": {},
   "source": [
    "Явное присутствие выбросов\n",
    "\n",
    "Очищаю данные от выбросов по методу Тьюки с ограничением в 1,5 межквартильного размаха"
   ]
  },
  {
   "cell_type": "code",
   "execution_count": 16,
   "metadata": {},
   "outputs": [],
   "source": [
    "# Функция удаления выбросов с регулировкой верхнего и нижнего предела\n",
    "def outliers_iqr_mod(data, feature, left=1.5, right=1.5):\n",
    "    x = data[feature]\n",
    "    quartile_1, quartile_3 = x.quantile(0.25), x.quantile(0.75),\n",
    "    iqr = quartile_3 - quartile_1\n",
    "    lower_bound = quartile_1 - (iqr * left)\n",
    "    upper_bound = quartile_3 + (iqr * right)\n",
    "    outliers = data[(x < lower_bound) | (x > upper_bound)]\n",
    "    cleaned = data[(x >= lower_bound) & (x <= upper_bound)]\n",
    "    return outliers, cleaned"
   ]
  },
  {
   "cell_type": "code",
   "execution_count": 17,
   "metadata": {},
   "outputs": [
    {
     "data": {
      "image/png": "[encoded data removed]",
      "text/plain": [
       "<Figure size 1500x400 with 2 Axes>"
      ]
     },
     "metadata": {},
     "output_type": "display_data"
    }
   ],
   "source": [
    "outliers, data = outliers_iqr_mod(data, 'target')\n",
    "\n",
    "fig, axes = plt.subplots(nrows=1, ncols=2, figsize=(15, 4))\n",
    "histplot = sns.histplot(data=data, x='target', ax=axes[0]);\n",
    "histplot.set_title('Cleaned Full Distribution');\n",
    "boxplot = sns.boxplot(data=data, x='target', ax=axes[1]);\n",
    "boxplot.set_title('Cleaned Full Boxplot');"
   ]
  },
  {
   "cell_type": "markdown",
   "metadata": {},
   "source": [
    "Очищенные данные сохранили допустимый уровень выбросов"
   ]
  },
  {
   "cell_type": "markdown",
   "metadata": {},
   "source": [
    "Переиндексация после удаления выбросов"
   ]
  },
  {
   "cell_type": "code",
   "execution_count": 18,
   "metadata": {},
   "outputs": [],
   "source": [
    "data.reset_index(inplace=True, drop=True)"
   ]
  },
  {
   "cell_type": "markdown",
   "metadata": {},
   "source": [
    "Значения признаков 'homeFacts' и 'schools'являются строками содержащими разную информацию. \n",
    "\n",
    "Выделяю эту информацию в отдельные признаки"
   ]
  },
  {
   "cell_type": "code",
   "execution_count": 155,
   "metadata": {},
   "outputs": [],
   "source": [
    "data['homeFacts'] = data['homeFacts'].apply(lambda x: x.replace(\"{'atAGlanceFacts': [\", '').replace('{', '')\\\n",
    "                        .replace(']}', '').replace('\\\"', \"'\"))\n",
    "data['homeFacts'] = data['homeFacts'].apply(lambda x: x.split('},'))"
   ]
  },
  {
   "cell_type": "code",
   "execution_count": 156,
   "metadata": {},
   "outputs": [],
   "source": [
    "list_error = []\n",
    "for x in range(data.shape[0]):\n",
    "    try:\n",
    "        list_dict = {}\n",
    "        for y in data['homeFacts'][x]:\n",
    "            y = str(y.replace(\" '\", '').replace('None', \"'\").replace('}', '').replace(',,', \"', \").replace('$', '')\\\n",
    "                    .replace(\"',\", \"'@\")).split('@')\n",
    "            list_dict[y[1].split(':')[1].replace(\"'\", '')] = 0 if y[0].split(':')[1].replace(\"'\", '') == '' \\\n",
    "                else y[0].split(':')[1].replace(\"'\", '').replace(',', '.')\n",
    "    except IndexError:\n",
    "        list_error.append(x)\n"
   ]
  },
  {
   "cell_type": "code",
   "execution_count": 157,
   "metadata": {},
   "outputs": [
    {
     "data": {
      "text/plain": [
       "[35393, 38672, 235732, 242005, 264838, 265224, 327200]"
      ]
     },
     "execution_count": 157,
     "metadata": {},
     "output_type": "execute_result"
    }
   ],
   "source": [
    "list_error"
   ]
  },
  {
   "cell_type": "code",
   "execution_count": 158,
   "metadata": {},
   "outputs": [],
   "source": [
    "def home_func(lanceFacts):\n",
    "    list_dict = {}\n",
    "    for y in lanceFacts:\n",
    "        y = str(y.replace(\" '\", '').replace('None', \"'\").replace('}', '').replace(',,', \"', \").replace('$', '')\\\n",
    "                .replace(\"',\", \"'@\")).split('@')\n",
    "        list_dict[y[1].split(':')[1].replace(\"'\", '')] = 0 if y[0].split(':')[1].replace(\"'\", '') == '' \\\n",
    "            else y[0].split(':')[1].replace(\"'\", '').replace(',', '.')\n",
    "            \n",
    "    return list_dict"
   ]
  },
  {
   "cell_type": "code",
   "execution_count": 159,
   "metadata": {},
   "outputs": [],
   "source": [
    "def home_func_1(lanceFacts):\n",
    "    list_dict = {}\n",
    "    for y in lanceFacts:\n",
    "        y = str(y.replace(\" '\", '').replace('None,', \"'\").replace('}', '').replace(',,', \"', \").replace('$', '')\\\n",
    "                .replace(\"',\", \"'@\")).split('@')\n",
    "        list_dict[y[1].split(':')[1].replace(\"'\", '')] = 0 if y[0].split(':')[1].replace(\"'\", '') == '' \\\n",
    "            else y[0].split(':')[1].replace(\"'\", '').replace(',', '.')\n",
    "            \n",
    "    return list_dict"
   ]
  },
  {
   "cell_type": "code",
   "execution_count": 160,
   "metadata": {},
   "outputs": [],
   "source": [
    "def home_func_2(lanceFacts):\n",
    "    list_dict = {}\n",
    "    lanceFacts = str(list(lanceFacts)).replace('None,', '\",').replace(\" \\'\", '').replace(\"\\'\", '').replace('\", Detached', 'Detached')\\\n",
    "        .replace(' \",', ',').split('\",')\n",
    "\n",
    "    for y in lanceFacts:\n",
    "        y = y.replace('[', '').replace('\"', '').replace('}]]', '').split(',')\n",
    "        list_dict[y[1].split(':')[1]] = 0 if y[0].split(':')[1] == ' ' else y[0].split(':')[1]\n",
    "            \n",
    "    return list_dict"
   ]
  },
  {
   "cell_type": "code",
   "execution_count": 161,
   "metadata": {},
   "outputs": [],
   "source": [
    "# Создание списков параметров которые в процессе обработки имели различия в содержании и не могли быть обработанны одним кодом\n",
    "list_all_index = (data.index.to_list())\n",
    "list_nan_index = [35393, 38672, 235732, 242005, 264838, 265224]\n",
    "list_2nan_index = [327200] # Данную строку видимо вообще лучше удалить, так как она не имеет стоимости объекта\n",
    "list_with_nan = list(set(list_all_index) - set(list_nan_index) - set(list_2nan_index))"
   ]
  },
  {
   "cell_type": "code",
   "execution_count": 162,
   "metadata": {},
   "outputs": [],
   "source": [
    "# # Обработка параметра homeFacts. Из строкового значения извлекаются нужные данные и составляется словарь\n",
    "data.loc[list_with_nan, 'homeFacts'] = \\\n",
    "    data.loc[list_with_nan, 'homeFacts'].apply(lambda x: home_func(x))"
   ]
  },
  {
   "cell_type": "code",
   "execution_count": 163,
   "metadata": {},
   "outputs": [],
   "source": [
    "data.loc[list_nan_index, 'homeFacts'] = \\\n",
    "    data.loc[list_nan_index, 'homeFacts'].apply(lambda x: home_func_1(x))"
   ]
  },
  {
   "cell_type": "code",
   "execution_count": 164,
   "metadata": {},
   "outputs": [],
   "source": [
    "data['homeFacts'][327200] = home_func_2(data['homeFacts'][list_2nan_index])"
   ]
  },
  {
   "cell_type": "markdown",
   "metadata": {},
   "source": [
    "### Используя значение homeFacts извлекаю данные и создаю новые колонки со значениями"
   ]
  },
  {
   "cell_type": "code",
   "execution_count": 165,
   "metadata": {},
   "outputs": [],
   "source": [
    "list_er = []\n",
    "try:\n",
    "    for ind_ex in range(data.shape[0]):\n",
    "\n",
    "        for column_home in data['homeFacts'][0].keys():\n",
    "            data.loc[ind_ex, column_home] = str(data['homeFacts'][ind_ex][column_home]).replace('/sqft', '').replace('sqft', '')\n",
    "except TypeError:\n",
    "    list_er.append(ind_ex)"
   ]
  },
  {
   "cell_type": "code",
   "execution_count": 166,
   "metadata": {},
   "outputs": [
    {
     "data": {
      "text/plain": [
       "[]"
      ]
     },
     "execution_count": 166,
     "metadata": {},
     "output_type": "execute_result"
    }
   ],
   "source": [
    "list_er"
   ]
  },
  {
   "cell_type": "code",
   "execution_count": 167,
   "metadata": {},
   "outputs": [],
   "source": [
    "data.drop('homeFacts', axis=1, inplace=True)"
   ]
  },
  {
   "cell_type": "markdown",
   "metadata": {},
   "source": [
    "### Преобразование параметра Heating"
   ]
  },
  {
   "cell_type": "code",
   "execution_count": 168,
   "metadata": {},
   "outputs": [
    {
     "data": {
      "text/plain": [
       "Heating\n",
       "gas                 141509\n",
       "no data             103550\n",
       "other                32981\n",
       "central              16246\n",
       "electric             13388\n",
       "central electric     13285\n",
       "central air           8811\n",
       "baseboard             3569\n",
       "wall                  3284\n",
       "refrigeration          986\n",
       "hot water              476\n",
       "oil                    211\n",
       "stove                  123\n",
       "radiator               119\n",
       "not                     72\n",
       "fireplace               41\n",
       "solar                   21\n",
       "window                  13\n",
       "ceiling central         12\n",
       "central oil              3\n",
       "Name: count, dtype: int64"
      ]
     },
     "execution_count": 168,
     "metadata": {},
     "output_type": "execute_result"
    }
   ],
   "source": [
    "data['Heating'] = data['Heating'].apply(lambda x: str(x).lower())\n",
    "data['Heating'] = data['Heating'].apply(lambda x: 'no data' if x == '0' or x == '' or x == ' ' else x)\n",
    "\n",
    "data['Heating'] = data['Heating'].apply(lambda x: str(x).replace('.', '').strip())\n",
    "\n",
    "data['Heating'] = data['Heating'].apply(lambda x: str(x).replace('/', ' '))\n",
    "data['Heating'] = data['Heating'].apply(lambda x: str(x).replace('gas heat', 'gas'))\n",
    "data['Heating'] = data['Heating'].apply(lambda x: str(x).replace(' - heat', ''))\n",
    "data['Heating'] = data['Heating'].apply(lambda x: str(x).replace('natural', '').strip())\n",
    "data['Heating'] = data['Heating'].apply(lambda x: str(x).replace('  ', ' ').strip())\n",
    "data['Heating'] = data['Heating'].apply(lambda x: str(x).replace('central heating', 'central'))\n",
    "data['Heating'] = data['Heating'].apply(lambda x: str(x).replace('central furnace', 'central'))\n",
    "data['Heating'] = data['Heating'].apply(lambda x: str(x).replace('forced air heating', 'forced air')\\\n",
    "        .replace('forced air other', 'forced air').replace('hot air', 'forced air').replace('forcedair', 'forced air'))\n",
    "\n",
    "data['Heating'] = data['Heating'].apply(lambda x: 'central air' if 'central air' in x else x)\n",
    "data['Heating'] = data['Heating'].apply(lambda x: 'central electric' if 'central' in x and 'elect' in x or 'heat-elec' in x else x)\n",
    "data['Heating'] = data['Heating'].apply(lambda x: 'central gas' if 'central gas' in x else x)\n",
    "\n",
    "data['Heating'] = data['Heating'].apply(lambda x: 'forced air' if 'forced' in x and 'air' in x else x)\n",
    "data['Heating'] = data['Heating'].apply(lambda x: 'forced air gas' if 'forced air' in x and 'gas' or 'propane' in x else x)\n",
    "data['Heating'] = data['Heating'].apply(lambda x: 'refrigeration' if 'refrigeration' in x or 'condition' in x\\\n",
    "    or 'conditioners' in x or 'electric cooling' in x or 'trane hvac' in x or 'cooling' in x else x)\n",
    "\n",
    "data['Heating'] = data['Heating'].apply(lambda x: 'central cooling' if 'central' in x and 'cooling' in x else x)\n",
    "data['Heating'] = data['Heating'].apply(lambda x: 'other' if 'other' in x or 'has heating' in x or 'multizone heat' in x\\\n",
    "    or 'yes' in x  or 'radiant' in x or 'basement' in x or 'zone' in x or 'floor' in x or 'bathroom' in x \n",
    "    or '1' in x or '2' in x in x or '3' in x in x or '5' in x or '9' in x  or 'heating' in x or 'gravity' in x \n",
    "    or 'dual' in x or 'apply' in x or 'garage' in x or 'lower' in x or 'room' in x or 'reverse' in x or 'thermostat' in x \n",
    "    or 'unit' in x or 'monitor' in x or 'mixed' in x  or 'high' in x or 'furnace' in x else x)\n",
    "data['Heating'] = data['Heating'].apply(lambda x: 'hot water' if 'hotwater' in x or 'water heaters' in x\\\n",
    "    or 'hot water' in x or 'steam' in x  or 'tank' in x else x)\n",
    "data['Heating'] = data['Heating'].apply(lambda x: 'wall' if 'wall' in x else x)\n",
    "data['Heating'] = data['Heating'].apply(lambda x: 'window' if 'window' in x else x)\n",
    "data['Heating'] = data['Heating'].apply(lambda x: 'electric gas' if 'electric' in x and 'gas' in x else x)\n",
    "data['Heating'] = data['Heating'].apply(lambda x: 'electric' if 'elec' in x and 'central' not in x else x)\n",
    "data['Heating'] = data['Heating'].apply(lambda x: 'central gas' if 'central' in x and 'gas' in x else x)\n",
    "data['Heating'] = data['Heating'].apply(lambda x: 'gas' if 'gas' in x or 'propan' in x and 'electric' not in x\\\n",
    "                                            and 'central' not in x else x)\n",
    "\n",
    "data['Heating'] = data['Heating'].apply(lambda x: 'baseboard' if 'baseboard' in x else x)\n",
    "\n",
    "data['Heating'] = data['Heating'].apply(lambda x: 'central fireplace' if 'central' in x and 'fireplace' in x else x)\n",
    "data['Heating'] = data['Heating'].apply(lambda x: 'fireplace' if 'fireplace' in x else x)\n",
    "\n",
    "data['Heating'] = data['Heating'].apply(lambda x: 'stove' if 'stove' in x or 'wood' in x or 'pellet' in x else x)\n",
    "\n",
    "data['Heating'] = data['Heating'].apply(lambda x: 'not' if 'ceiling' in x and 'fan' in x or 'contact manager' in x \\\n",
    "    or 'closet-on demand' in x or 'laundry room-tank' in x or 'utility room' in x or 'incentive' in x or 'closet' in x\\\n",
    "    or 'common' in x or 'cooler' in x or 'fans' in x else x)\n",
    "\n",
    "data['Heating'] = data['Heating'].apply(lambda x: 'central' if 'central' in x and 'boiler' in x or 'system' in x\\\n",
    "    or 'combination' in x or 'heat' in x or '(central)' in x or 'two' in x or 'demand' in x or 'summer' in x or 'roof' in x \\\n",
    "        or 'a c' in x else x)\n",
    "\n",
    "data['Heating'] = data['Heating'].apply(lambda x: 'central heat pump' if 'central' in x and 'heat pump' in x else x)\n",
    "\n",
    "data['Heating'] = data['Heating'].apply(lambda x: 'solar' if 'solar' in x or 'star' in x else x)\n",
    "data['Heating'] = data['Heating'].apply(lambda x: 'heat pump' if 'heat pump' in x or 'heatpump' in x and 'central' not in x else x)\n",
    "\n",
    "data['Heating'] = data['Heating'].apply(lambda x: 'oil' if 'oil' in x and 'central' not in x else x)\n",
    "data['Heating'] = data['Heating'].apply(lambda x: 'radiator' if 'radiator' in x else x)\n",
    "\n",
    "data['Heating'].value_counts()"
   ]
  },
  {
   "cell_type": "markdown",
   "metadata": {},
   "source": [
    "### Преобразование параметра Cooling"
   ]
  },
  {
   "cell_type": "code",
   "execution_count": 169,
   "metadata": {},
   "outputs": [
    {
     "data": {
      "text/plain": [
       "Cooling\n",
       "central        183769\n",
       "not            131389\n",
       "has cooling     17664\n",
       "no data          3241\n",
       "other            1702\n",
       "electric          896\n",
       "fan                25\n",
       "solar              14\n",
       "Name: count, dtype: int64"
      ]
     },
     "execution_count": 169,
     "metadata": {},
     "output_type": "execute_result"
    }
   ],
   "source": [
    "data['Cooling'] = data['Cooling'].apply(lambda x: str(x).lower().strip())\n",
    "data['Cooling'] = data['Cooling'].apply(lambda x: str(x).replace(',', '').replace('.', '').replace('/', '').replace('-', ''))\n",
    "data['Cooling'] = data['Cooling'].apply(lambda x: 'central' if 'central' in x else x)\n",
    "data['Cooling'] = data['Cooling'].apply(lambda x: 'not' if '0' in x or 'no data' in x or 'gas' in x  or 'baseb' in x or 'ceiling' in x\\\n",
    "    or 'floor' in x or 'stove' in x or 'included' in x or 'oil' in x or 'radi' in x or 'heat' in x or 'hot' in x or 'remar' in x\\\n",
    "    or 'no ac' in x or 'manage' in x or 'propan' in x or 'butane' in x or 'wood' in x or 'keros' in x or 'dehumidifier' in x\\\n",
    "    or 'evapor' in x else x)\n",
    "\n",
    "data['Cooling'] = data['Cooling'].apply(lambda x: 'has cooling' if 'unit' in x or 'cool' in x or 'refrig' in x or 'wall' in x\\\n",
    "    or 'wind' in x or 'forc' in x or 'condi' in x or 'star' in x or 'split' in x or 'dual' in x or 'zone' in x or 'yes' in x\\\n",
    "    or '1' in x or '2' in x or '3' in x or 'inc' in x or 'apply' in x or 'separ' in x else x)\n",
    "\n",
    "data['Cooling'] = data['Cooling'].apply(lambda x: 'other' if 'other' in x else x)\n",
    "\n",
    "data['Cooling'] = data['Cooling'].apply(lambda x: 'fan' if 'fan' in x else x)\n",
    "\n",
    "data['Cooling'] = data['Cooling'].apply(lambda x: 'central' if 'cenrtal' in x else x)\n",
    "\n",
    "data['Cooling'] = data['Cooling'].apply(lambda x: 'has cooling' if 'ac' in x or 'room' in x or 'high' in x or 'monitor' in x\\\n",
    "    or 'progr' in x or 'contr' in x else x)\n",
    "\n",
    "data['Cooling'] = data['Cooling'].apply(lambda x: 'solar' if 'solar' in x else x)\n",
    "\n",
    "data['Cooling'] = data['Cooling'].apply(lambda x: 'electric' if 'electr' in x else x)\n",
    "\n",
    "data['Cooling'] = data['Cooling'].apply(lambda x: 'no data' if x == '' else x)\n",
    "\n",
    "data['Cooling'].value_counts()"
   ]
  },
  {
   "cell_type": "markdown",
   "metadata": {},
   "source": [
    "### Преобразование параметра Parking"
   ]
  },
  {
   "cell_type": "code",
   "execution_count": 170,
   "metadata": {},
   "outputs": [
    {
     "data": {
      "text/plain": [
       "Parking\n",
       "no parking             170327\n",
       "garage                  85657\n",
       "2                       30845\n",
       "1                       17006\n",
       "street                  10875\n",
       "carport                  7723\n",
       "3                        4552\n",
       "yes                      3906\n",
       "no data                  3240\n",
       "4                        2829\n",
       "6                         675\n",
       "5                         518\n",
       "8                         241\n",
       "7                         118\n",
       "open                       67\n",
       "9                          51\n",
       "guest                      31\n",
       "oversized                  13\n",
       "rent                        8\n",
       "boat                        6\n",
       "controlled entrance         3\n",
       "tandem                      3\n",
       "cirdw                       2\n",
       "side vehicle entry          2\n",
       "near public transit         2\n",
       "Name: count, dtype: int64"
      ]
     },
     "execution_count": 170,
     "metadata": {},
     "output_type": "execute_result"
    }
   ],
   "source": [
    "data['Parking'] = data['Parking'].apply(lambda x: str(x).replace('.', '').replace(',', '').replace('/', '').replace('-', '').lower())\n",
    "\n",
    "data['Parking'] = data['Parking'].apply(lambda x: 'no parking' if 'no parking' in x or 'no' in x or 'swim' in x or '0' in x \\\n",
    "    or 'other' in x or 'dwearth' in x or 'dtach' in x else x)\n",
    "data['Parking'] = data['Parking'].apply(lambda x: '1' if '1' in x else x)\n",
    "data['Parking'] = data['Parking'].apply(lambda x: '2' if '2' in x else x)\n",
    "data['Parking'] = data['Parking'].apply(lambda x: '3' if '3' in x else x)\n",
    "data['Parking'] = data['Parking'].apply(lambda x: '4' if '4' in x else x)\n",
    "data['Parking'] = data['Parking'].apply(lambda x: '5' if '5' in x else x)\n",
    "data['Parking'] = data['Parking'].apply(lambda x: '6' if '6' in x else x)\n",
    "data['Parking'] = data['Parking'].apply(lambda x: '7' if '7' in x else x)\n",
    "data['Parking'] = data['Parking'].apply(lambda x: '8' if '8' in x else x)\n",
    "data['Parking'] = data['Parking'].apply(lambda x: '9' if '9' in x else x)\n",
    "data['Parking'] = data['Parking'].apply(lambda x: 'garage' if 'garage' in x or 'gar' in x else x)\n",
    "data['Parking'] = data['Parking'].apply(lambda x: 'street' if 'street' in x or 'driv' in x or 'drv' in x or 'grav' in x or 'aggre' in x\\\n",
    "     or 'paved' in x or 'pvt' in x or 'off site' in x or 'asphalt' in x or 'aspht' in x or 'concr' in x or 'pavers' in x else x)\n",
    "data['Parking'] = data['Parking'].apply(lambda x: 'carport' if 'carport' in x or 'alley' in x else x)\n",
    "data['Parking'] = data['Parking'].apply(lambda x: 'yes' if 'parking' in x and 'desc' in x or 'type' in x or 'yn' in x else x)\n",
    "data['Parking'] = data['Parking'].apply(lambda x: 'yes' if 'attached' in x or 'door' in x or 'assigned' in x or 'yn' in x\\\n",
    "    or 'detached' in x or 'covered' in x or 'basement' in x or 'rv' in x or 'under' in x or 'pad' in x or 'parking space' in x\\\n",
    "    or 'on site' in x or 'common' in x or 'bldg' in x or 'unit' in x or 'concrete' in x or 'builtin' in x or 'possible' in x \\\n",
    "    or 'deeded' in x or 'apply' in x or 'lot' in x or 'valet' in x or 'reqd' in x else x)\n",
    "\n",
    "data['Parking'] = data['Parking'].apply(lambda x: 'guest' if 'guest' in x else x)\n",
    "\n",
    "data['Parking'] = data['Parking'].apply(lambda x: 'rent' if 'rent' in x or 'sale' in x or 'cash' in x else x)\n",
    "\n",
    "data['Parking'] = data['Parking'].apply(lambda x: 'yes' if 'parking' in x and 'no' not in x else x)\n",
    "\n",
    "data['Parking'] = data['Parking'].apply(lambda x: 'controlled entrance' if 'cable tv' in x else x)\n",
    "\n",
    "data['Parking'] = data['Parking'].apply(lambda x: 'no data' if x == ' ' else x)\n",
    "\n",
    "data['Parking'].value_counts()"
   ]
  },
  {
   "cell_type": "markdown",
   "metadata": {},
   "source": [
    "### Преобразование параметра lotsize"
   ]
  },
  {
   "cell_type": "code",
   "execution_count": 171,
   "metadata": {},
   "outputs": [
    {
     "name": "stdout",
     "output_type": "stream",
     "text": [
      "Строковые значения в данных: \u001b[3m\u001b[33m['acre', 'data', 'acres']\u001b[0m\n",
      "Пропуски в данных: \u001b[3m\u001b[33m{'—', '--'}\u001b[0m\n"
     ]
    },
    {
     "data": {
      "text/plain": [
       "lotsize\n",
       "no data    54978\n",
       "0          29142\n",
       "0.17       11849\n",
       "0.23       10603\n",
       "0.15       10112\n",
       "           ...  \n",
       "16.05          1\n",
       "6.8            1\n",
       "5578           1\n",
       "10.72          1\n",
       "10100          1\n",
       "Name: count, Length: 3878, dtype: int64"
      ]
     },
     "execution_count": 171,
     "metadata": {},
     "output_type": "execute_result"
    }
   ],
   "source": [
    "data['lotsize'] = data['lotsize'].apply(lambda x: str(x).lower())\n",
    "data['lotsize'] = data['lotsize'].apply(lambda x: str(x).replace('sq. ft.', '').replace('lot', '').replace('.', '').strip())\n",
    "# В значениях есть пропуски. Заменяю на no data\n",
    "data['lotsize'] = data['lotsize'].apply(lambda x: 'no data' if x == '' else x)\n",
    "\n",
    "# Поиск значений в данных отличных от типа int\n",
    "list_acr = []\n",
    "for x in range(data.shape[0]):\n",
    "    str_acr = data['lotsize'][x].split(' ')\n",
    "    if len(str_acr) > 1:\n",
    "        list_acr.append(str_acr[1])\n",
    "list_uniq_acr = list(set(list_acr))\n",
    "print(f'Строковые значения в данных: \\033[3m\\033[33m{list_uniq_acr}\\033[0m')\n",
    "\n",
    "# Создание списка индексов значений int\n",
    "list_ind_index = []\n",
    "for x in range(data.shape[0]):\n",
    "    str_acr = data['lotsize'][x].split(' ')\n",
    "    if len(str_acr) == 1:\n",
    "        list_ind_index.append(x)\n",
    "\n",
    "# В данных оказался ещё мусор, поиск мусорных значений\n",
    "list_type = []\n",
    "for x in list_ind_index:\n",
    "    try:\n",
    "        # Преобразование квадратных футов в акры.\n",
    "        if data['lotsize'][x] != '0':\n",
    "            data.loc[x, 'lotsize'] = round(int(data['lotsize'][x]) / 42895, 2)\n",
    "    except ValueError:\n",
    "        list_type.append(data['lotsize'][x])\n",
    "print(f'Пропуски в данных: \\033[3m\\033[33m{set(list_type)}\\033[0m')\n",
    "\n",
    "# Замена найденных мусорных значений на no data\n",
    "data['lotsize'] = data['lotsize'].apply(lambda x: str(x).replace('--', 'no data').replace('—', 'no data'))\n",
    "# Удаление определения acres. Так как всё числовые значения преобразованы в acres\n",
    "data['lotsize'] = data['lotsize'].apply(lambda x: str(x).replace('acres', '').replace('acre', '').strip())\n",
    "\n",
    "data['lotsize'].value_counts()"
   ]
  },
  {
   "cell_type": "markdown",
   "metadata": {},
   "source": [
    "### Преобразование и поиск ошибок в параметре Year built"
   ]
  },
  {
   "cell_type": "code",
   "execution_count": 172,
   "metadata": {},
   "outputs": [],
   "source": [
    "# В данных есть значение с пробелом, преобразую в no data\n",
    "data['Year built'] = data['Year built'].apply(lambda x: str(x).lower())\n",
    "data['Year built'] = data['Year built'].apply(lambda x: 'no data' if x == ' ' or x == '' or x == '0' else x)"
   ]
  },
  {
   "cell_type": "code",
   "execution_count": 173,
   "metadata": {},
   "outputs": [
    {
     "data": {
      "text/plain": [
       "{'1', '559990649990'}"
      ]
     },
     "execution_count": 173,
     "metadata": {},
     "output_type": "execute_result"
    }
   ],
   "source": [
    "# Поиск ошибок в данных\n",
    "list_err_year = []\n",
    "for x in range(data.shape[0]):\n",
    "    if data['Year built'][x] != 'no data':\n",
    "        if len(list(data['Year built'][x])) != 4:\n",
    "            list_err_year.append(data['Year built'][x])\n",
    "set(list_err_year)"
   ]
  },
  {
   "cell_type": "code",
   "execution_count": 174,
   "metadata": {},
   "outputs": [],
   "source": [
    "# Замена ошибок на no data\n",
    "data['Year built'] = data['Year built'].apply(lambda x: 'no data' if x == '1' or x == '559990649990' else x)"
   ]
  },
  {
   "cell_type": "code",
   "execution_count": 175,
   "metadata": {},
   "outputs": [
    {
     "data": {
      "text/plain": [
       "Year built\n",
       "no data    57176\n",
       "2019       28794\n",
       "2006        7328\n",
       "2005        6819\n",
       "2007        6395\n",
       "           ...  \n",
       "1809           1\n",
       "1807           1\n",
       "1828           1\n",
       "1823           1\n",
       "1804           1\n",
       "Name: count, Length: 220, dtype: int64"
      ]
     },
     "execution_count": 175,
     "metadata": {},
     "output_type": "execute_result"
    }
   ],
   "source": [
    "data['Year built'].value_counts()"
   ]
  },
  {
   "cell_type": "markdown",
   "metadata": {},
   "source": [
    "### Преобразование и поиск ошибок в параметре Remodeled year"
   ]
  },
  {
   "cell_type": "code",
   "execution_count": 176,
   "metadata": {},
   "outputs": [],
   "source": [
    "# Всё в нижний регистр\n",
    "data['Remodeled year'] = data['Remodeled year'].apply(lambda x: str(x).lower())\n",
    "# В данных есть значение с пробелом и 0, преобразую в no data\n",
    "data['Remodeled year'] = data['Remodeled year'].apply(lambda x: 'no data' if x == ' ' or x == '' or x == '0' else x)\n"
   ]
  },
  {
   "cell_type": "code",
   "execution_count": 177,
   "metadata": {},
   "outputs": [
    {
     "data": {
      "text/plain": [
       "set()"
      ]
     },
     "execution_count": 177,
     "metadata": {},
     "output_type": "execute_result"
    }
   ],
   "source": [
    "# Поиск ошибок в данных\n",
    "list_err_remo = []\n",
    "for x in range(data.shape[0]):\n",
    "    if data['Remodeled year'][x] != 'no data':\n",
    "        if len(list(data['Remodeled year'][x])) != 4:\n",
    "            list_err_remo.append(data['Remodeled year'][x])\n",
    "set(list_err_remo)"
   ]
  },
  {
   "cell_type": "code",
   "execution_count": 178,
   "metadata": {},
   "outputs": [
    {
     "data": {
      "text/plain": [
       "Remodeled year\n",
       "no data    204608\n",
       "2006         5044\n",
       "2005         4267\n",
       "2007         3829\n",
       "2008         3193\n",
       "            ...  \n",
       "1800            1\n",
       "1846            1\n",
       "1888            1\n",
       "1853            1\n",
       "1862            1\n",
       "Name: count, Length: 147, dtype: int64"
      ]
     },
     "execution_count": 178,
     "metadata": {},
     "output_type": "execute_result"
    }
   ],
   "source": [
    "data['Remodeled year'].value_counts()"
   ]
  },
  {
   "cell_type": "markdown",
   "metadata": {},
   "source": [
    "### Обработка параметра 'schools'"
   ]
  },
  {
   "cell_type": "code",
   "execution_count": 113,
   "metadata": {},
   "outputs": [],
   "source": [
    "def schools_func(list_schools):\n",
    "    for x in [\"\\'\", \"[{\", \"}]\", '{', '}', 'data: ', \"data':\", ' mi', '\"', 'mi']:\n",
    "        list_schools = list_schools.replace(x, '')\n",
    "    list_schools = list_schools.replace(\"], \", ']%').split('%')\n",
    "\n",
    "    dict_schools = {}\n",
    "    for x in range(len(list_schools)):\n",
    "        list_schools_temp = list_schools[x].split(':')\n",
    "        dict_schools[list_schools_temp[0]] = list_schools_temp[1].replace(' NR', ' 0').replace(' None/', ' 0/').replace(' NA', ' 0')\\\n",
    "        .replace('NA', ' 0').replace(' to ', '-').replace(' [', '').replace(']', '').replace(\", Jr.,\", '_Jr.').split(',')\n",
    "    return dict_schools"
   ]
  },
  {
   "cell_type": "code",
   "execution_count": 114,
   "metadata": {},
   "outputs": [],
   "source": [
    "data['schools'] = data['schools'].apply(lambda x: schools_func(x))"
   ]
  },
  {
   "cell_type": "code",
   "execution_count": 115,
   "metadata": {},
   "outputs": [
    {
     "name": "stdout",
     "output_type": "stream",
     "text": [
      "Количество несоответствия рейтинга с количеством уровня школ: \u001b[3m\u001b[33m815\u001b[0m\n",
      "    Количество несоответствия дистанции с количеством уровня школ: \u001b[3m\u001b[33m815\u001b[0m\n",
      "    Количество несоответствия имени с количеством уровня школ: \u001b[3m\u001b[33m1851\u001b[0m\n"
     ]
    }
   ],
   "source": [
    "# В процессе знакомства с данными выяснилось, что есть значения в которых количество рейтингов и дистанций меньше уровней \n",
    "# школ. В таких данных добавляю знаяение 0\n",
    "list_col_rating = []\n",
    "list_col_distance = []\n",
    "list_col_name = []\n",
    "\n",
    "r = 0\n",
    "d = 0\n",
    "n = 0\n",
    "\n",
    "for x in range(data.shape[0]):\n",
    "    if len(data['schools'][x]['Grades']) > len(data['schools'][x]['rating']):\n",
    "        r += 1\n",
    "        list_col_rating.append(x)\n",
    "        temp_r = 0\n",
    "        n_r = len(data['schools'][x]['Grades']) - len(data['schools'][x]['rating'])\n",
    "        while n_r > temp_r:\n",
    "            temp_r += 1\n",
    "            data['schools'][x]['rating'].append('0')\n",
    "    if len(data['schools'][x]['Grades']) > len(data['schools'][x]['Distance']):\n",
    "        d += 1\n",
    "        list_col_distance.append(x)\n",
    "        temp_d = 0\n",
    "        n_d = len(data['schools'][x]['Grades']) - len(data['schools'][x]['Distance'])\n",
    "        while n_d > temp_d:\n",
    "            temp_d += 1\n",
    "            data['schools'][x]['Distance'].append('0')\n",
    "        \n",
    "    if len(data['schools'][x]['Grades']) > len(data['schools'][x]['name']):\n",
    "        n += 1\n",
    "        list_col_name.append(x)\n",
    "        temp_n = 0\n",
    "        n_n = len(data['schools'][x]['Grades']) - len(data['schools'][x]['name'])\n",
    "        while n_n > temp_n:\n",
    "            temp_n += 1\n",
    "            data['schools'][x]['name'].append('0')\n",
    "\n",
    "print(f'Количество несоответствия рейтинга с количеством уровня школ: \\033[3m\\033[33m{r}\\033[0m\\n\\\n",
    "    Количество несоответствия дистанции с количеством уровня школ: \\033[3m\\033[33m{d}\\033[0m\\n\\\n",
    "    Количество несоответствия имени с количеством уровня школ: \\033[3m\\033[33m{n}\\033[0m')\n",
    "      "
   ]
  },
  {
   "cell_type": "code",
   "execution_count": 116,
   "metadata": {},
   "outputs": [],
   "source": [
    "# Собираю уникальные значения параметра Grades\n",
    "list_grades = []\n",
    "for x in range(data.shape[0]):\n",
    "    for y in data['schools'][x]['Grades']:\n",
    "        if y != 'not':\n",
    "            list_grades.append(y.strip())\n",
    "\n",
    "list_grades = list(set(list_grades))\n",
    "list_grades = list_grades[1:]\n",
    "list_grades.sort()"
   ]
  },
  {
   "cell_type": "code",
   "execution_count": 14,
   "metadata": {},
   "outputs": [
    {
     "data": {
      "text/plain": [
       "['0',\n",
       " '1',\n",
       " '1-10',\n",
       " '1-11',\n",
       " '1-12',\n",
       " '1-2',\n",
       " '1-3',\n",
       " '1-4',\n",
       " '1-5',\n",
       " '1-6',\n",
       " '1-7',\n",
       " '1-8',\n",
       " '10',\n",
       " '10-12',\n",
       " '10–10',\n",
       " '10–11',\n",
       " '10–12',\n",
       " '11-12',\n",
       " '11–11',\n",
       " '11–12',\n",
       " '12',\n",
       " '12–12',\n",
       " '1–1',\n",
       " '1–10',\n",
       " '1–11',\n",
       " '1–12',\n",
       " '1–2',\n",
       " '1–3',\n",
       " '1–4',\n",
       " '1–5',\n",
       " '1–6',\n",
       " '1–7',\n",
       " '1–8',\n",
       " '1–9',\n",
       " '2',\n",
       " '2-11',\n",
       " '2-12',\n",
       " '2-3',\n",
       " '2-4',\n",
       " '2-5',\n",
       " '2-6',\n",
       " '2-8',\n",
       " '2–11',\n",
       " '2–12',\n",
       " '2–2',\n",
       " '2–3',\n",
       " '2–4',\n",
       " '2–5',\n",
       " '2–6',\n",
       " '2–7',\n",
       " '2–8',\n",
       " '2–9',\n",
       " '3',\n",
       " '3-11',\n",
       " '3-12',\n",
       " '3-4',\n",
       " '3-5',\n",
       " '3-6',\n",
       " '3-8',\n",
       " '3–10',\n",
       " '3–11',\n",
       " '3–12',\n",
       " '3–4',\n",
       " '3–5',\n",
       " '3–6',\n",
       " '3–7',\n",
       " '3–8',\n",
       " '4-12',\n",
       " '4-5',\n",
       " '4-6',\n",
       " '4-7',\n",
       " '4-8',\n",
       " '4-9',\n",
       " '4–10',\n",
       " '4–11',\n",
       " '4–12',\n",
       " '4–4',\n",
       " '4–5',\n",
       " '4–6',\n",
       " '4–7',\n",
       " '4–8',\n",
       " '4–9',\n",
       " '5',\n",
       " '5-10',\n",
       " '5-11',\n",
       " '5-12',\n",
       " '5-6',\n",
       " '5-7',\n",
       " '5-8',\n",
       " '5-9',\n",
       " '5–10',\n",
       " '5–11',\n",
       " '5–12',\n",
       " '5–5',\n",
       " '5–6',\n",
       " '5–7',\n",
       " '5–8',\n",
       " '5–9',\n",
       " '6',\n",
       " '6-10',\n",
       " '6-11',\n",
       " '6-12',\n",
       " '6-7',\n",
       " '6-8',\n",
       " '6-9',\n",
       " '6–10',\n",
       " '6–11',\n",
       " '6–12',\n",
       " '6–6',\n",
       " '6–7',\n",
       " '6–8',\n",
       " '6–9',\n",
       " '7',\n",
       " '7-10',\n",
       " '7-11',\n",
       " '7-12',\n",
       " '7-8',\n",
       " '7-9',\n",
       " '7–10',\n",
       " '7–11',\n",
       " '7–12',\n",
       " '7–7',\n",
       " '7–8',\n",
       " '7–9',\n",
       " '8',\n",
       " '8-10',\n",
       " '8-12',\n",
       " '8-9',\n",
       " '8–10',\n",
       " '8–11',\n",
       " '8–12',\n",
       " '8–8',\n",
       " '8–9',\n",
       " '9',\n",
       " '9-10',\n",
       " '9-11',\n",
       " '9-12',\n",
       " '9–10',\n",
       " '9–11',\n",
       " '9–12',\n",
       " '9–9',\n",
       " 'K',\n",
       " 'K-1',\n",
       " 'K-10',\n",
       " 'K-11',\n",
       " 'K-12',\n",
       " 'K-2',\n",
       " 'K-3',\n",
       " 'K-4',\n",
       " 'K-5',\n",
       " 'K-6',\n",
       " 'K-7',\n",
       " 'K-8',\n",
       " 'K-9',\n",
       " 'K–1',\n",
       " 'K–10',\n",
       " 'K–11',\n",
       " 'K–12',\n",
       " 'K–2',\n",
       " 'K–3',\n",
       " 'K–4',\n",
       " 'K–5',\n",
       " 'K–6',\n",
       " 'K–7',\n",
       " 'K–8',\n",
       " 'K–9',\n",
       " 'K–K',\n",
       " 'N/A',\n",
       " 'None',\n",
       " 'PK',\n",
       " 'PK-1',\n",
       " 'PK-10',\n",
       " 'PK-12',\n",
       " 'PK-2',\n",
       " 'PK-3',\n",
       " 'PK-4',\n",
       " 'PK-5',\n",
       " 'PK-6',\n",
       " 'PK-7',\n",
       " 'PK-8',\n",
       " 'PK-9',\n",
       " 'PK–1',\n",
       " 'PK–10',\n",
       " 'PK–11',\n",
       " 'PK–12',\n",
       " 'PK–2',\n",
       " 'PK–3',\n",
       " 'PK–4',\n",
       " 'PK–5',\n",
       " 'PK–6',\n",
       " 'PK–7',\n",
       " 'PK–8',\n",
       " 'PK–9',\n",
       " 'PK–K',\n",
       " 'PK–PK',\n",
       " 'Pk-5',\n",
       " 'Preschool-1',\n",
       " 'Preschool-10',\n",
       " 'Preschool-11',\n",
       " 'Preschool-12',\n",
       " 'Preschool-2',\n",
       " 'Preschool-3',\n",
       " 'Preschool-4',\n",
       " 'Preschool-5',\n",
       " 'Preschool-6',\n",
       " 'Preschool-7',\n",
       " 'Preschool-8',\n",
       " 'Preschool-9']"
      ]
     },
     "execution_count": 14,
     "metadata": {},
     "output_type": "execute_result"
    }
   ],
   "source": [
    "list_grades"
   ]
  },
  {
   "cell_type": "markdown",
   "metadata": {},
   "source": [
    "В данных есть дома рядом с которымb видимо нет школ, Заполню значения not"
   ]
  },
  {
   "cell_type": "code",
   "execution_count": 15,
   "metadata": {},
   "outputs": [
    {
     "data": {
      "text/plain": [
       "{'rating': [''], 'Distance': [''], 'Grades': [''], 'name': ['']}"
      ]
     },
     "execution_count": 15,
     "metadata": {},
     "output_type": "execute_result"
    }
   ],
   "source": [
    "data['schools'][3]"
   ]
  },
  {
   "cell_type": "code",
   "execution_count": 117,
   "metadata": {},
   "outputs": [],
   "source": [
    "# Замена пропуска на 0\n",
    "for x in range(data.shape[0]):\n",
    "    for n in ['rating', 'Distance', 'Grades', 'name']:\n",
    "        if data['schools'][x][n] == ['']:\n",
    "            data['schools'][x][n] = '0'"
   ]
  },
  {
   "cell_type": "code",
   "execution_count": 118,
   "metadata": {},
   "outputs": [
    {
     "data": {
      "text/plain": [
       "{'rating': '0', 'Distance': '0', 'Grades': '0', 'name': '0'}"
      ]
     },
     "execution_count": 118,
     "metadata": {},
     "output_type": "execute_result"
    }
   ],
   "source": [
    "# Значение под ключём name не меняю. Так как думаю вообще удалить его\n",
    "data['schools'][3]"
   ]
  },
  {
   "cell_type": "markdown",
   "metadata": {},
   "source": [
    "### Создание новых признаков из признака schools"
   ]
  },
  {
   "cell_type": "code",
   "execution_count": 119,
   "metadata": {},
   "outputs": [],
   "source": [
    "# Создаю df с новыми колонками, после объединяю с исходным df\n",
    "data_1 = pd.DataFrame(0, index= data.index, columns=['preschool', 'elementary', 'middle', 'high'])\n",
    "data = pd.concat([data, data_1], axis=1)\n",
    "# Каким-то образом признак получился типа int. пришлось назначить его как object\n",
    "data = data.astype({'high': 'object'})"
   ]
  },
  {
   "cell_type": "code",
   "execution_count": 120,
   "metadata": {},
   "outputs": [],
   "source": [
    "# Заполнение вновь созданных признаков из содержания колонки schools\n",
    "list_1 = []\n",
    "dict_1 = {}\n",
    "list_errors = []\n",
    "for x in data.index.to_list():\n",
    "    list_preschool = []\n",
    "    list_elementery = []\n",
    "    list_middle = []\n",
    "    list_high = []\n",
    "\n",
    "    try:\n",
    "        for y in range(len(data['schools'][x]['Grades'])):\n",
    "            dict_preschool = {}\n",
    "            dict_elementery = {}\n",
    "            dict_middle = {}\n",
    "            dict_high = {}\n",
    "            temp_str = data['schools'][x]['Grades'][y].replace('–', '-').strip().split('-')\n",
    "\n",
    "            if len(temp_str) > 1:\n",
    "                  \n",
    "                if int(temp_str[1]) < 5:\n",
    "                    dict_preschool['Distance'] = data['schools'][x]['Distance'][y].strip()\n",
    "                    dict_preschool['rating'] = data['schools'][x]['rating'][y].strip()\n",
    "                    dict_preschool['name'] = data['schools'][x]['name'][y].lower().strip()\n",
    "                    list_preschool.append(dict_preschool)\n",
    "\n",
    "\n",
    "                elif 5 <= int(temp_str[1]) <= 8 and 'elementary' in data['schools'][x]['name'][y].lower():\n",
    "                    dict_elementery['Distance'] = data['schools'][x]['Distance'][y].strip()\n",
    "                    dict_elementery['rating'] = data['schools'][x]['rating'][y].strip()\n",
    "                    dict_elementery['name'] = data['schools'][x]['name'][y].lower().strip()\n",
    "                    list_elementery.append(dict_elementery)\n",
    "\n",
    "\n",
    "                elif 8 <= int(temp_str[1]) < 12 and 'middle' in data['schools'][x]['name'][y].lower():\n",
    "                    dict_middle['Distance'] = data['schools'][x]['Distance'][y].strip()\n",
    "                    dict_middle['rating'] = data['schools'][x]['rating'][y].strip()\n",
    "                    dict_middle['name'] = data['schools'][x]['name'][y].lower().strip()\n",
    "                    list_middle.append(dict_middle)\n",
    "\n",
    "                elif 12 <= int(temp_str[1]) <= 18:\n",
    "                    dict_high['Distance'] = data['schools'][x]['Distance'][y].strip()\n",
    "                    dict_high['rating'] = data['schools'][x]['rating'][y].strip()\n",
    "                    dict_high['name'] = data['schools'][x]['name'][y].lower().strip()\n",
    "                    list_high.append(dict_high)\n",
    "\n",
    "            if len(temp_str) == 1:\n",
    "                temp_str[0] = temp_str[0].replace('None', '0').replace('N/A', '0').replace('PK', '0').replace('K', '0')\n",
    "                 \n",
    "                if int(temp_str[0]) < 5:\n",
    "                    dict_preschool['Distance'] = data['schools'][x]['Distance'][y].strip()\n",
    "                    dict_preschool['rating'] = data['schools'][x]['rating'][y].strip()\n",
    "                    dict_preschool['name'] = data['schools'][x]['name'][y].lower().strip()\n",
    "                    list_preschool.append(dict_preschool)\n",
    "\n",
    "                elif 5 <= int(temp_str[0]) <= 8 and 'elementary' in data['schools'][x]['name'][y].lower():\n",
    "                    dict_elementery['Distance'] = data['schools'][x]['Distance'][y].strip()\n",
    "                    dict_elementery['rating'] = data['schools'][x]['rating'][y].strip()\n",
    "                    dict_elementery['name'] = data['schools'][x]['name'][y].lower().strip()\n",
    "                    list_elementery.append(dict_elementery)\n",
    "\n",
    "                elif 8 <= int(temp_str[0]) < 12 and 'middle' in data['schools'][x]['name'][y].lower():\n",
    "                    dict_middle['Distance'] = data['schools'][x]['Distance'][y].strip()\n",
    "                    dict_middle['rating'] = data['schools'][x]['rating'][y].strip()\n",
    "                    dict_middle['name'] = data['schools'][x]['name'][y].lower().strip()\n",
    "                    list_middle.append(dict_middle)\n",
    "\n",
    "                elif 12 <= int(temp_str[0]) <= 18:\n",
    "                    dict_high['Distance'] = data['schools'][x]['Distance'][y].strip()\n",
    "                    dict_high['rating'] = data['schools'][x]['rating'][y].strip()\n",
    "                    dict_high['name'] = data['schools'][x]['name'][y].strip()\n",
    "                    list_high.append(dict_high)\n",
    "    except ValueError:\n",
    "        list_errors.append([x, temp_str])\n",
    "    else:\n",
    "        if len(list_preschool) != 0:\n",
    "            data['preschool'][x] = list_preschool\n",
    "        else:\n",
    "            data['preschool'][x] = 0\n",
    "        if len(list_elementery) != 0:\n",
    "            data['elementary'][x] = list_elementery\n",
    "        else:\n",
    "            data['elementary'][x] = 0\n",
    "        if len(list_middle) != 0:\n",
    "            data['middle'][x] = list_middle\n",
    "        else:\n",
    "            data['middle'][x] = 0\n",
    "        if len(list_high) != 0:\n",
    "            data['high'][x] = list_high\n",
    "        else:\n",
    "            data['high'][x] = 0"
   ]
  },
  {
   "cell_type": "code",
   "execution_count": 121,
   "metadata": {},
   "outputs": [],
   "source": [
    "data.drop(['schools'], axis=1, inplace=True)"
   ]
  },
  {
   "cell_type": "markdown",
   "metadata": {},
   "source": [
    "В процессе окончательной обработки данных schools выяснилось, что в них усть мусор: 'NR', 'None'. Ошибки были выловлены с помощью try except и собраны в уникальный список по каждому параметру.\n",
    "\n",
    "Дальнейшие функции уже с доработкой удаления этих ошибок. В них добавлена replace"
   ]
  },
  {
   "cell_type": "code",
   "execution_count": 142,
   "metadata": {},
   "outputs": [],
   "source": [
    "col_list = []\n",
    "dist_list = []\n",
    "rating_list = []\n",
    "name_list_err = []\n",
    "\n",
    "def col_school(col_s):\n",
    "    try:\n",
    "        num_schools = len(col_s)\n",
    "        return num_schools\n",
    "    except ValueError:\n",
    "        col_list.append(col_s)\n",
    "\n",
    "def dist_fn(dict_dist):\n",
    "    try:\n",
    "        dist_int = 0\n",
    "        for x in range(len(dict_dist)):\n",
    "            dist_int += float(dict_dist[x]['Distance'])\n",
    "        return dist_int\n",
    "    except ValueError:\n",
    "        dist_list.append(dict_dist[x]['Distance'])\n",
    "\n",
    "def rating_fn(dict_rating):\n",
    "    try:\n",
    "        rating_int = 0\n",
    "        for x in range(len(dict_rating)):\n",
    "            if len(dict_rating[x]['rating'].split('/')) > 1:\n",
    "                rating_int += float(dict_rating[x]['rating'].split('/')[0].replace('None', '0'))\n",
    "            else:\n",
    "                rating_int += float(dict_rating[x]['rating'].replace('NR', '0'))\n",
    "        return rating_int\n",
    "    except ValueError:\n",
    "        rating_list.append(dict_rating[x]['rating'])\n",
    "\n",
    "def name_fn(dict_name):\n",
    "    try:\n",
    "        name_list = []\n",
    "        for x in range(len(dict_name)):\n",
    "            name_list.append(dict_name[x]['name'])\n",
    "        return name_list\n",
    "    except ValueError:\n",
    "        name_list_err.append(dict_name[x]['name'])"
   ]
  },
  {
   "cell_type": "code",
   "execution_count": 148,
   "metadata": {},
   "outputs": [
    {
     "name": "stdout",
     "output_type": "stream",
     "text": [
      "col_list: [], dist_list: [], rating_list: [], name_list_err: [] \n"
     ]
    }
   ],
   "source": [
    "for x in ['preschool', 'elementary', 'middle', 'high']:\n",
    "    data[x + '_col'] = data[x].apply(lambda x: col_school(x) if x != 0 else x)\n",
    "    data[x + '_distance'] = data[x].apply(lambda x: dist_fn(x) if x != 0 else x)\n",
    "    data[x + '_rating'] = data[x].apply(lambda x: rating_fn(x) if x != 0 else x)\n",
    "    data[x + '_name'] = data[x].apply(lambda x: name_fn(x) if x != 0 else x)\n",
    "\n",
    "print(f'col_list: {col_list}, dist_list: {dist_list}, rating_list: {rating_list}, name_list_err: {name_list_err} ')"
   ]
  },
  {
   "cell_type": "code",
   "execution_count": 149,
   "metadata": {},
   "outputs": [],
   "source": [
    "# Удаление исходных признаков после обработки\n",
    "data.drop(['preschool', 'elementary', 'middle', 'high'], axis=1, inplace=True)"
   ]
  },
  {
   "cell_type": "markdown",
   "metadata": {},
   "source": [
    "### Обработка параметра PrivatePool"
   ]
  },
  {
   "cell_type": "code",
   "execution_count": 179,
   "metadata": {},
   "outputs": [
    {
     "data": {
      "text/plain": [
       "PrivatePool\n",
       "no     307088\n",
       "yes     31612\n",
       "Name: count, dtype: int64"
      ]
     },
     "execution_count": 179,
     "metadata": {},
     "output_type": "execute_result"
    }
   ],
   "source": [
    "data['PrivatePool'] = data['PrivatePool'].fillna('no')\n",
    "data['PrivatePool'] = data['PrivatePool'].replace('Yes', 'yes')\n",
    "data['PrivatePool'].value_counts()"
   ]
  },
  {
   "cell_type": "markdown",
   "metadata": {},
   "source": [
    "### Обработка параметра 'private pool'"
   ]
  },
  {
   "cell_type": "code",
   "execution_count": 180,
   "metadata": {},
   "outputs": [
    {
     "data": {
      "text/plain": [
       "private pool\n",
       "Yes    3612\n",
       "Name: count, dtype: int64"
      ]
     },
     "execution_count": 180,
     "metadata": {},
     "output_type": "execute_result"
    }
   ],
   "source": [
    "data['private pool'].value_counts()"
   ]
  },
  {
   "cell_type": "code",
   "execution_count": 181,
   "metadata": {},
   "outputs": [
    {
     "name": "stdout",
     "output_type": "stream",
     "text": [
      "Было сделано \u001b[3m\u001b[33m3612\u001b[0m дополнений\n",
      "Итоговое количество положительных значений в данных PrivatePool \u001b[3m\u001b[33m35224\u001b[0m\n"
     ]
    }
   ],
   "source": [
    "# Один из методов замены букв в значении на прописные\n",
    "data['private pool'] = data['private pool'].replace('Yes', 'yes')\n",
    "# Дополнение признака PrivatePool при его равенстве no на yes если таковое есть в признаке private pool\n",
    "# Объединени двух столбцов по значению yes с итоговым PrivatePool\n",
    "c = 0\n",
    "for x in range(data.shape[0]):\n",
    "    if data['private pool'][x] == 'yes' and data['PrivatePool'][x] == 'no':\n",
    "        data.loc[x, 'PrivatePool'] = data['private pool'][x]\n",
    "        c += 1\n",
    "\n",
    "print(f'Было сделано \\033[3m\\033[33m{c}\\033[0m дополнений')\n",
    "print(f'Итоговое количество положительных значений в данных PrivatePool \\033[3m\\033[33m{data.PrivatePool.value_counts()[1]}\\033[0m')"
   ]
  },
  {
   "cell_type": "markdown",
   "metadata": {},
   "source": [
    "Признак private pool удаляется"
   ]
  },
  {
   "cell_type": "code",
   "execution_count": 182,
   "metadata": {},
   "outputs": [],
   "source": [
    "data.drop('private pool', axis=1, inplace=True)"
   ]
  },
  {
   "cell_type": "markdown",
   "metadata": {},
   "source": [
    "### Обработка параметра 'status'"
   ]
  },
  {
   "cell_type": "code",
   "execution_count": 183,
   "metadata": {},
   "outputs": [
    {
     "data": {
      "text/plain": [
       "status\n",
       "for sale            178234\n",
       "Active               93671\n",
       "nan                  36164\n",
       "Auction              12674\n",
       "Pending               6802\n",
       "New construction      5391\n",
       "Contract              3526\n",
       "Contingent             856\n",
       "Price Change           509\n",
       "Closed                 461\n",
       "for rent               412\n",
       "Name: count, dtype: int64"
      ]
     },
     "execution_count": 183,
     "metadata": {},
     "output_type": "execute_result"
    }
   ],
   "source": [
    "data['status'] = data['status'].replace('For sale', 'for sale').replace('For Sale', 'for sale')\n",
    "\n",
    "data['status'] = data['status'].replace('Pre-foreclosure / auction', 'Auction').replace('Pre-foreclosure', 'Auction')\\\n",
    "    .replace(' / auction', 'Auction').replace('auction', 'Auction').replace('A Active', 'Auction').replace('Auction - Active', 'Auction')\\\n",
    "    .replace('Foreclosed' , 'Auction').replace('Foreclosure' , 'Auction').replace('foreclosure' , 'Auction')\\\n",
    "    .replace('Active - Auction' , 'Auction')\n",
    "\n",
    "data['status'] = data['status'].replace('Under Contract Show', 'Contract').replace('Under Contract   Showing', 'Contract')\\\n",
    ".replace('Active Under Contract', 'Contract').replace('Option Contract', 'Contract')\\\n",
    ".replace('Contract P', 'Contract').replace('Contingency Contract', 'Contract').replace('U Under Contract', 'Contract')\\\n",
    ".replace('Contract Contingent On Buyer Sale', 'Contract').replace('Under Contract - Show', 'Contract')\\\n",
    ".replace('Under Contract Backups', 'Contract').replace('Active Option Contract', 'Contract')\n",
    "\n",
    "data['status'] = data['status'].replace('P', 'Pending').replace('pending', 'Pending').replace('Option Pending', 'Pending')\\\n",
    ".replace('Pending Continue To Show', 'Pending').replace('P Pending Sale', 'Pending').replace('Active Pending', 'Pending')\n",
    "\n",
    "data['status'] = data['status'].replace('Contingent Show', 'Contingent').replace('Pending With Contingencies', 'Contingent')\\\n",
    ".replace('Contingent   Show', 'Contingent').replace('Active With Contingencies', 'Contingent')\\\n",
    ".replace('Active Contingency', 'Contingent').replace('C', 'Contingent').replace('Contingency 48 Hr (+/ )', 'Contingent')\\\n",
    ".replace('Ct', 'Contingent')\n",
    "\n",
    "data['status'] = data['status'].replace('Pi', 'Pending Inspection').replace('Contingent Finance And Inspection', 'Pending Inspection')\\\n",
    ".replace('Pending In', 'Pending Inspection').replace('Pending W/Insp Finance', 'Pending Inspection')\\\n",
    ".replace('CT Insp - Inspection Contingency', 'Pending Inspection').replace('Contingent Finance and Inspection', 'Pending Inspection')\\\n",
    ".replace('Pending - Taking Backups', 'Pending Inspection')\n",
    "\n",
    "data['status'] = data['status'].replace('Apartment for rent', 'for rent').replace('Condo for rent', 'for rent')\n",
    "\n",
    "data['status'] = data['status'].replace('Active With Offer', 'Active').replace('Active Option', 'Active').replace('Active Option', 'Active')\\\n",
    ".replace('Back On Market', 'Active').replace('Back on Market', 'Active').replace('C Continue Show', 'Active')\n",
    "\n",
    "data['status'] = data['status'].replace('Pending Taking Backups', 'Closed').replace('Pending Taking Backups', 'Closed')\\\n",
    ".replace('Offer Pending Signature', 'Closed').replace('Backup Contract', 'Closed').replace('Active/Contingent', 'Closed')\\\n",
    ".replace('Active Contingent', 'Closed').replace('Pending Ab', 'Closed').replace('Active Backup', 'Closed')\n",
    "\n",
    "data['status'] = data['status'].replace('New', 'New construction')\n",
    "\n",
    "data['status'] = data['status'].apply(lambda x: re.sub(r'Coming soon:\\s\\w\\w\\w\\s\\d{,2}.', r'Pending', str(x)))\n",
    "data['status'] = data['status'].apply(lambda x: re.sub(r'Pending \\w*\\s*\\w*', r'Pending', x))\n",
    "\n",
    "def replace_pend(pend_str):\n",
    "    for x in ['Pf', 'Pending To Show', 'Pending/Backup Wanted', 'Pending/Escape Clause', 'Pending, Continue to Show',\\\n",
    "              'Pending- Continue to Show', 'Pending(Do Not Show)', 'Pending/ Cont.', 'Ps', 'Pending- Backup Offer Requested'\\\n",
    "                'Pending   Financing', 'Pending- Backup Offer Requested', 'Pending   Financing', 'Due Diligence Period']:\n",
    "        pend_str = pend_str.replace(x, 'Pending')\n",
    "    return pend_str\n",
    "\n",
    "data['status'] = data['status'].apply(lambda x: replace_pend(x))\n",
    "\n",
    "def replace_active(pend_str):\n",
    "    for x in ['Reactivated', 'Temporary Active', 'Uc Continue To Show', 'Re Activated', 'Reactivated', 'Lease/Purchase', 'Accepting backups']:\n",
    "        pend_str = pend_str.replace(x, 'Active')\n",
    "    return pend_str\n",
    "\n",
    "data['status'] = data['status'].apply(lambda x: replace_active(x))\n",
    "\n",
    "def replace_contract(pend_str):\n",
    "    for x in ['Under contract', 'Active with Contract', 'Conditional Contract', 'Under Contract W/ Bckp',\\\n",
    "         'Under Contract Taking Back Up Offers', 'Under Contract', 'Under Contract - No Show', 'Contract - No Show']:\n",
    "        pend_str = pend_str.replace(x, 'Contract')\n",
    "    return pend_str\n",
    "\n",
    "data['status'] = data['status'].apply(lambda x: replace_contract(x))\n",
    "\n",
    "def replace_conting(pend_str):\n",
    "    for x in ['Contingent Escape', 'Contingent Take Backup', 'Contingent Lien Holder Release', 'Contingent   Release',\\\n",
    "              'Contingent - Financing', 'Contingent   Foreclosure', 'Active - Contingent', 'Contingent   No Show',\\\n",
    "                  'Contingent - Sale of Home', 'Conting Accpt Backups', 'Listing Extended']:\n",
    "        pend_str = pend_str.replace(x, 'Contingent')\n",
    "    return pend_str\n",
    "\n",
    "data['status'] = data['status'].apply(lambda x: replace_conting(x))\n",
    "\n",
    "data['status'] = data['status'].replace('Accepted Offer', 'Closed').replace('Lease/Purchase Pending', 'Closed')\\\n",
    "    .replace('Sold: $285,000', 'Closed').replace('Sold: $15,000', 'Closed').replace('recently sold', 'Closed')\\\n",
    "        .replace('Backup', 'Closed')\n",
    "\n",
    "data['status'] = data['status'].replace('Active Pending', 'Pending')\n",
    "\n",
    "data['status'].value_counts()"
   ]
  },
  {
   "cell_type": "markdown",
   "metadata": {},
   "source": [
    "### Обработка параметра 'propertyType'"
   ]
  },
  {
   "cell_type": "code",
   "execution_count": 184,
   "metadata": {},
   "outputs": [],
   "source": [
    "data['propertyType'] = data['propertyType'].apply(lambda x: str(x).lower())"
   ]
  },
  {
   "cell_type": "code",
   "execution_count": 185,
   "metadata": {},
   "outputs": [],
   "source": [
    "data['propertyType'] = data['propertyType'].replace('single-family home', 'single family home')\n",
    "\n",
    "data['propertyType'] = data['propertyType'].apply(lambda x: 'other style' if 'other' in x else x)\n",
    "data['propertyType'] = data['propertyType'].apply(lambda x: 'other style' if 'other style' in x else x)\n",
    "data['propertyType'] = data['propertyType'].apply(lambda x: 'other style' if 'miscellaneous' in x else x)\n",
    "\n",
    "data['propertyType'] = data['propertyType'].apply(lambda x: 'no for sale' if 'apartment' in x else x)\n",
    "data['propertyType'] = data['propertyType'].apply(lambda x: 'no for sale' if 'transitional' in x else x)\n",
    "\n",
    "data['propertyType'] = data['propertyType'].apply(lambda x: 'colonial' if 'spanish' in x else x)\n",
    "data['propertyType'] = data['propertyType'].apply(lambda x: 'colonial' if 'victorian' in x else x)\n",
    "data['propertyType'] = data['propertyType'].apply(lambda x: 'colonial' if 'mediterranean' in x else x)\n",
    "data['propertyType'] = data['propertyType'].apply(lambda x: 'colonial' if 'english' in x else x)\n",
    "data['propertyType'] = data['propertyType'].apply(lambda x: 'colonial' if 'french' in x else x)\n",
    "data['propertyType'] = data['propertyType'].apply(lambda x: 'colonial' if 'santa barbara/tuscan' in x else x)\n",
    "data['propertyType'] = data['propertyType'].apply(lambda x: 'colonial' if 'georgian' in x else x)\n",
    "data['propertyType'] = data['propertyType'].apply(lambda x: 'colonial' if 'florida' in x else x)\n",
    "data['propertyType'] = data['propertyType'].apply(lambda x: 'colonial' if 'tudor' in x else x)\n",
    "data['propertyType'] = data['propertyType'].apply(lambda x: 'colonial' if 'colonial' in x else x)\n",
    "data['propertyType'] = data['propertyType'].apply(lambda x: 'colonial' if 'historical' in x else x)\n",
    "data['propertyType'] = data['propertyType'].apply(lambda x: 'colonial' if 'historic' in x else x)\n",
    "data['propertyType'] = data['propertyType'].apply(lambda x: 'colonial' if 'old' in x else x)\n",
    "data['propertyType'] = data['propertyType'].apply(lambda x: 'colonial' if 'mid-century' in x else x)\n",
    "data['propertyType'] = data['propertyType'].apply(lambda x: 'colonial' if 'queen anne' in x else x)\n",
    "data['propertyType'] = data['propertyType'].apply(lambda x: 'colonial' if 'territorial/santa fe' in x else x)\n",
    "\n",
    "data['propertyType'] = data['propertyType'].apply(lambda x: 'townhouse' if 'townhome' in x else x)\n",
    "data['propertyType'] = data['propertyType'].apply(lambda x: 'townhouse' if 'townhouse' in x else x)\n",
    "data['propertyType'] = data['propertyType'].apply(lambda x: 'townhouse' if 'cottage' in x else x)\n",
    "data['propertyType'] = data['propertyType'].apply(lambda x: 'townhouse' if 'federal' in x else x)\n",
    "data['propertyType'] = data['propertyType'].apply(lambda x: 'townhouse' if 'custom' in x else x)\n",
    "\n",
    "data['propertyType'] = data['propertyType'].apply(lambda x: 'single family' if 'single family home' in x else x)\n",
    "data['propertyType'] = data['propertyType'].apply(lambda x: 'single family' if 'detached' in x else x)\n",
    "data['propertyType'] = data['propertyType'].apply(lambda x: 'single family' if 'bungalow' in x else x)\n",
    "data['propertyType'] = data['propertyType'].apply(lambda x: 'single family' if 'singlefamilyresidence' in x else x)\n",
    "data['propertyType'] = data['propertyType'].apply(lambda x: 'single family' if 'villa' in x else x)\n",
    "data['propertyType'] = data['propertyType'].apply(lambda x: 'single family' if 'patio' in x else x)\n",
    "data['propertyType'] = data['propertyType'].apply(lambda x: 'single family' if 'courtyard' in x else x)\n",
    "data['propertyType'] = data['propertyType'].apply(lambda x: 'single family' if 'chalet' in x else x)\n",
    "data['propertyType'] = data['propertyType'].apply(lambda x: 'single family' if 'single wide' in x else x)\n",
    "\n",
    "data['propertyType'] = data['propertyType'].apply(lambda x: 'ranch' if 'ranch' in x else x)\n",
    "data['propertyType'] = data['propertyType'].apply(lambda x: 'ranch' if 'farm' in x else x)\n",
    "data['propertyType'] = data['propertyType'].apply(lambda x: 'ranch' if 'craftsman' in x else x)\n",
    "data['propertyType'] = data['propertyType'].apply(lambda x: 'ranch' if 'lot' in x else x)\n",
    "data['propertyType'] = data['propertyType'].apply(lambda x: 'ranch' if 'land' in x else x)\n",
    "data['propertyType'] = data['propertyType'].apply(lambda x: 'ranch' if 'prairie' in x else x)\n",
    "data['propertyType'] = data['propertyType'].apply(lambda x: 'ranch' if 'texas hill country' in x else x)\n",
    "data['propertyType'] = data['propertyType'].apply(lambda x: 'ranch' if 'hill country' in x else x)\n",
    "\n",
    "data['propertyType'] = data['propertyType'].apply(lambda x: 'mobile' if 'mobile' in x else x)\n",
    "data['propertyType'] = data['propertyType'].apply(lambda x: 'mobile' if 'coach/carriage' in x else x)\n",
    "data['propertyType'] = data['propertyType'].apply(lambda x: 'mobile' if 'carriage' in x else x)\n",
    "data['propertyType'] = data['propertyType'].apply(lambda x: 'mobile' if 'camp' in x else x)\n",
    "data['propertyType'] = data['propertyType'].apply(lambda x: 'mobile' if 'cabin' in x else x)\n",
    "data['propertyType'] = data['propertyType'].apply(lambda x: 'mobile' if 'houseboat' in x else x)\n",
    "\n",
    "data['propertyType'] = data['propertyType'].apply(lambda x: 'multi family home' if 'multi' in x else x)\n",
    "data['propertyType'] = data['propertyType'].apply(lambda x: 'multi family home' if 'cluster home' in x else x)\n",
    "data['propertyType'] = data['propertyType'].apply(lambda x: 'multi family home' if 'duplex' in x else x)\n",
    "\n",
    "data['propertyType'] = data['propertyType'].apply(lambda x: 'contemporary' if 'contemporary' in x else x)\n",
    "data['propertyType'] = data['propertyType'].apply(lambda x: 'contemporary' if 'modern' in x else x)\n",
    "\n",
    "data['propertyType'] = data['propertyType'].apply(lambda x: 'traditional' if 'traditional' in x else x)\n",
    "data['propertyType'] = data['propertyType'].apply(lambda x: 'traditional' if 'conventional' in x else x)\n",
    "data['propertyType'] = data['propertyType'].apply(lambda x: 'traditional' if 'european' in x else x)\n",
    "data['propertyType'] = data['propertyType'].apply(lambda x: 'traditional' if 'tuscan' in x else x)\n",
    "data['propertyType'] = data['propertyType'].apply(lambda x: 'traditional' if 'dutch provincial' in x else x)\n",
    "data['propertyType'] = data['propertyType'].apply(lambda x: 'traditional' if 'charleston' in x else x)\n",
    "\n",
    "data['propertyType'] = data['propertyType'].apply(lambda x: 'one story' if '1 story' in x else x)\n",
    "data['propertyType'] = data['propertyType'].apply(lambda x: 'one story' if 'one story' in x else x)\n",
    "data['propertyType'] = data['propertyType'].apply(lambda x: 'one story' if 'store & dwelling' in x else x)\n",
    "data['propertyType'] = data['propertyType'].apply(lambda x: 'one story' if 'one level unit' in x else x)\n",
    "data['propertyType'] = data['propertyType'].apply(lambda x: 'one story' if 'low rise' in x else x)\n",
    "\n",
    "data['propertyType'] = data['propertyType'].apply(lambda x: 'two story' if '2-story' in x else x)\n",
    "data['propertyType'] = data['propertyType'].apply(lambda x: 'two story' if '2 story' in x else x)\n",
    "data['propertyType'] = data['propertyType'].apply(lambda x: 'two story' if '2 stories' in x else x)\n",
    "data['propertyType'] = data['propertyType'].apply(lambda x: 'two story' if 'bi-level' in x else x)\n",
    "data['propertyType'] = data['propertyType'].apply(lambda x: 'two story' if 'two story' in x else x)\n",
    "data['propertyType'] = data['propertyType'].apply(lambda x: 'two story' if 'bilevel' in x else x)\n",
    "data['propertyType'] = data['propertyType'].apply(lambda x: 'two story' if '2.5 story' in x else x)\n",
    "\n",
    "data['propertyType'] = data['propertyType'].apply(lambda x: 'tri story' if 'tri-level' in x else x)\n",
    "data['propertyType'] = data['propertyType'].apply(lambda x: 'tri story' if '3 level' in x else x)\n",
    "data['propertyType'] = data['propertyType'].apply(lambda x: 'tri story' if '3 story' in x else x)\n",
    "data['propertyType'] = data['propertyType'].apply(lambda x: 'tri story' if '3 stories' in x else x)\n",
    "data['propertyType'] = data['propertyType'].apply(lambda x: 'tri story' if '3+ stories' in x else x)\n",
    "data['propertyType'] = data['propertyType'].apply(lambda x: 'tri story' if 'triplex' in x else x)\n",
    "data['propertyType'] = data['propertyType'].apply(lambda x: 'tri story' if 'trinity' in x else x)\n",
    "\n",
    "data['propertyType'] = data['propertyType'].apply(lambda x: 'four story' if '4-plex' in x else x)\n",
    "data['propertyType'] = data['propertyType'].apply(lambda x: 'four story' if 'split (4 level)' in x else x)\n",
    "data['propertyType'] = data['propertyType'].apply(lambda x: 'four story' if 'fourplex' in x else x)\n",
    "data['propertyType'] = data['propertyType'].apply(lambda x: 'four story' if 'american 4-square' in x else x)\n",
    "data['propertyType'] = data['propertyType'].apply(lambda x: 'four story' if 'quad level' in x else x)\n",
    "\n",
    "data['propertyType'] = data['propertyType'].apply(lambda x: '4+ floors' if '4+ floors' in x else x)\n",
    "\n",
    "data['propertyType'] = data['propertyType'].apply(lambda x: 'condo' if 'condominium' in x else x)\n",
    "data['propertyType'] = data['propertyType'].apply(lambda x: 'condo' if 'condo' in x else x)\n",
    "\n",
    "data['propertyType'] = data['propertyType'].apply(lambda x: 'cooperative' if 'coop' in x else x)\n",
    "data['propertyType'] = data['propertyType'].apply(lambda x: 'cooperative' if 'co-op' in x else x)\n",
    "\n",
    "data['propertyType'] = data['propertyType'].apply(lambda x: 'mid century' if 'fmid-century' in x else x)\n",
    "\n",
    "data['propertyType'] = data['propertyType'].apply(lambda x: 'garden home' if 'garden home' in x else x)\n",
    "data['propertyType'] = data['propertyType'].apply(lambda x: 'garden home' if 'lake house' in x else x)\n",
    "\n",
    "data['propertyType'] = data['propertyType'].apply(lambda x: 'split level' if 'split-level' in x else x)\n",
    "\n",
    "data['propertyType'] = data['propertyType'].apply(lambda x: 'penthouse' if 'penthouse' in x else x)\n",
    "data['propertyType'] = data['propertyType'].apply(lambda x: 'penthouse' if 'split level' in x else x)\n",
    "data['propertyType'] = data['propertyType'].apply(lambda x: 'penthouse' if 'studio' in x else x)\n",
    "data['propertyType'] = data['propertyType'].apply(lambda x: 'penthouse' if 'airlite' in x else x)\n",
    "\n",
    "data['propertyType'] = data['propertyType'].apply(lambda x: 'high rise' if 'high-rise' in x else x)\n",
    "data['propertyType'] = data['propertyType'].apply(lambda x: 'high rise' if 'high rise' in x else x)\n",
    "data['propertyType'] = data['propertyType'].apply(lambda x: 'high rise' if 'hi-rise' in x else x)\n",
    "\n",
    "data['propertyType'] = data['propertyType'].apply(lambda x: 'modern' if 'modernist' in x else x)\n",
    "data['propertyType'] = data['propertyType'].apply(lambda x: 'modern' if 'modern' in x else x)\n",
    "\n",
    "data['propertyType'] = data['propertyType'].apply(lambda x: 'mid rise' if 'mid-rise' in x else x)\n",
    "data['propertyType'] = data['propertyType'].apply(lambda x: 'mid rise' if 'mid rise' in x else x)\n",
    "data['propertyType'] = data['propertyType'].apply(lambda x: 'mid rise' if 'mid-level' in x else x)\n",
    "\n",
    "data['propertyType'] = data['propertyType'].apply(lambda x: 'residential' if 'residential' in x else x)\n",
    "\n",
    "data['propertyType'] = data['propertyType'].apply(lambda x: 'elevated' if 'elevated' in x else x)\n",
    "\n",
    "data['propertyType'] = data['propertyType'].apply(lambda x: 'manufactured' if 'manufactured' in x else x)\n",
    "data['propertyType'] = data['propertyType'].apply(lambda x: 'manufactured' if 'industrial' in x else x)\n",
    "data['propertyType'] = data['propertyType'].apply(lambda x: 'manufactured' if 'warehouse' in x else x)\n",
    "data['propertyType'] = data['propertyType'].apply(lambda x: 'manufactured' if 'garage storage' in x else x)\n",
    "data['propertyType'] = data['propertyType'].apply(lambda x: 'manufactured' if 'loft' in x else x)\n",
    "\n",
    "data['propertyType'] = data['propertyType'].apply(lambda x: 'attached' if 'attached' in x else x)\n",
    "\n",
    "data['propertyType'] = data['propertyType'].apply(lambda x: 'arts' if 'arts' in x else x)\n",
    "data['propertyType'] = data['propertyType'].apply(lambda x: 'arts' if 'art' in x else x)\n",
    "\n",
    "data['propertyType'] = data['propertyType'].apply(lambda x: 'unknown' if 'yes' in x else x)\n",
    "data['propertyType'] = data['propertyType'].apply(lambda x: 'unknown' if 'a-frame' in x else x)\n",
    "data['propertyType'] = data['propertyType'].apply(lambda x: 'unknown' if 'straight thru' in x else x)\n",
    "data['propertyType'] = data['propertyType'].apply(lambda x: 'unknown' if 'attached' in x else x)\n",
    "data['propertyType'] = data['propertyType'].apply(lambda x: 'unknown' if 'side-by-side' in x else x)\n",
    "\n",
    "data['propertyType'] = data['propertyType'].apply(lambda x: 'lot' if 'lot' in x else x)\n",
    "\n",
    "data['propertyType'] = data['propertyType'].apply(lambda x: 'cluster home' if 'split' in x else x)\n",
    "data['propertyType'] = data['propertyType'].apply(lambda x: 'cluster home' if 'dwelling w/separate living area' in x else x)\n",
    "\n",
    "data['propertyType'] = data['propertyType'].apply(lambda x: 'flat' if 'flat' in x else x)\n",
    "\n",
    "data['propertyType'] = data['propertyType'].apply(lambda x: 'low rise' if 'less than 4 floors' in x else x)\n",
    "\n",
    "data['propertyType'] = data['propertyType'].apply(lambda x: 'beach home' if 'beach home' in x else x)\n",
    "data['propertyType'] = data['propertyType'].apply(lambda x: 'beach home' if 'moorage' in x else x)\n",
    "data['propertyType'] = data['propertyType'].apply(lambda x: 'beach home' if 'cape' in x else x)\n",
    "data['propertyType'] = data['propertyType'].apply(lambda x: 'beach home' if 'key west/coastal' in x else x)\n",
    "data['propertyType'] = data['propertyType'].apply(lambda x: 'beach home' if 'resort property' in x else x)\n",
    "data['propertyType'] = data['propertyType'].apply(lambda x: 'beach home' if 'coastal' in x else x)\n",
    "data['propertyType'] = data['propertyType'].apply(lambda x: 'beach home' if 'key west' in x else x)\n",
    "\n",
    "data['propertyType'] = data['propertyType'].apply(lambda x: 'log home' if 'log' in x else x)\n",
    "data['propertyType'] = data['propertyType'].apply(lambda x: 'log home' if 'rustic' in x else x)\n",
    "\n",
    "data['propertyType'] = data['propertyType'].apply(lambda x: 'gambrel' if 'end unit' in x else x)\n",
    "\n",
    "data['propertyType'] = data['propertyType'].apply(lambda x: 'elevated' if 'stilt house' in x else x)"
   ]
  },
  {
   "cell_type": "code",
   "execution_count": 186,
   "metadata": {},
   "outputs": [],
   "source": [
    "# В данных есть пропуски заменяю на unknown\n",
    "for x in range(data.shape[0]):\n",
    "    if data['propertyType'][x] == ' ':\n",
    "        data['propertyType'][x] = 'unknown'"
   ]
  },
  {
   "cell_type": "code",
   "execution_count": 187,
   "metadata": {},
   "outputs": [
    {
     "data": {
      "text/plain": [
       "['post and beam',\n",
       " 'fairway house',\n",
       " 'conversion, rehab needed',\n",
       " 'dwelling with rental',\n",
       " '30x40 building',\n",
       " 'back-to-back',\n",
       " 'denver square']"
      ]
     },
     "execution_count": 187,
     "metadata": {},
     "output_type": "execute_result"
    }
   ],
   "source": [
    "# Создание списка с неопределёнными значениями парамтра propertyType\n",
    "list_u = data['propertyType'].value_counts()[33:].index.to_list()\n",
    "list_u"
   ]
  },
  {
   "cell_type": "code",
   "execution_count": 188,
   "metadata": {},
   "outputs": [],
   "source": [
    "# замена неопределённых значений парамтра propertyType на unknown\n",
    "data['propertyType'] = data['propertyType'].apply(lambda x: 'unknown' if x in list_u else x)"
   ]
  },
  {
   "cell_type": "code",
   "execution_count": 189,
   "metadata": {},
   "outputs": [
    {
     "name": "stdout",
     "output_type": "stream",
     "text": [
      "В параметре propertyType осталось \u001b[3m\u001b[33m33\u001b[0m уникальных значения\n"
     ]
    }
   ],
   "source": [
    "print('В параметре propertyType осталось \\033[3m\\033[33m{}\\033[0m уникальных значения'.format(data['propertyType'].nunique()))"
   ]
  },
  {
   "cell_type": "markdown",
   "metadata": {},
   "source": [
    "### Обработка параметра 'city'"
   ]
  },
  {
   "cell_type": "markdown",
   "metadata": {},
   "source": [
    "Чтобы исключить разные варианты написания городов привожу всё к нижнему уровню написания"
   ]
  },
  {
   "cell_type": "code",
   "execution_count": 190,
   "metadata": {},
   "outputs": [
    {
     "name": "stdout",
     "output_type": "stream",
     "text": [
      "Количество уникальных городов до обработки \u001b[3m\u001b[33m1957\u001b[0m\n",
      "Количество уникальных городов после обработки \u001b[3m\u001b[33m1848\u001b[0m\n"
     ]
    }
   ],
   "source": [
    "print(f'Количество уникальных городов до обработки \\033[3m\\033[33m{data.city.nunique()}\\033[0m')\n",
    "data['city'] = data['city'].apply(lambda x: str(x).lower())\n",
    "print(f'Количество уникальных городов после обработки \\033[3m\\033[33m{data.city.nunique()}\\033[0m')"
   ]
  },
  {
   "cell_type": "markdown",
   "metadata": {},
   "source": [
    "### Обработка признака baths"
   ]
  },
  {
   "cell_type": "code",
   "execution_count": 191,
   "metadata": {},
   "outputs": [],
   "source": [
    "#  Обработка столбца baths\n",
    "def baths(bath):\n",
    "    for x in  ['ba', 'Baths', 'Bathrooms:', '+', '-0', ' / 1 / 1', ' / 1', ' / 0', ' this', ' ths']:\n",
    "        bath = str(bath).replace(x, '').replace(',', '.').strip()\n",
    "\n",
    "    for y in ['nan', '~', '-', 'SemiMod', 'Sq. Ft.', '00', '—']:\n",
    "        bath = str(bath).replace(y, '0')\n",
    "\n",
    "    return int(float(bath))\n",
    "\n",
    "data['baths'] = data['baths'].apply(lambda x: baths(x))"
   ]
  },
  {
   "cell_type": "code",
   "execution_count": 192,
   "metadata": {},
   "outputs": [
    {
     "name": "stdout",
     "output_type": "stream",
     "text": [
      "После обработки получил варианты количества ванных на объекте [0, 1, 2, 3, 4, 5, 6, 7, 8, 9, 10, 11, 12, 13, 14, 15, 16, 17, 18, 19, 20, 22, 24, 25, 28, 30, 60, 102, 241, 750]\n"
     ]
    }
   ],
   "source": [
    "print('После обработки получил варианты количества ванных на объекте {}'.format(sorted(data['baths'].value_counts().index.to_list())))"
   ]
  },
  {
   "cell_type": "markdown",
   "metadata": {},
   "source": [
    "В данных явно наблюдается ситуация с выбросами"
   ]
  },
  {
   "cell_type": "code",
   "execution_count": 193,
   "metadata": {},
   "outputs": [
    {
     "data": {
      "image/png": "[encoded data removed]",
      "text/plain": [
       "<Figure size 1500x400 with 2 Axes>"
      ]
     },
     "metadata": {},
     "output_type": "display_data"
    }
   ],
   "source": [
    "# Использования функции для удаления выбросов. На 3 межквартильного размаха в каждую сторону.\n",
    "outliers, data = outliers_iqr_mod(data, 'baths', 3, 3)\n",
    "\n",
    "fig, axes = plt.subplots(nrows=1, ncols=2, figsize=(15, 4))\n",
    "histplot = sns.histplot(data=data, x='baths', ax=axes[0]);\n",
    "histplot.set_title('Cleaned Full Distribution');\n",
    "boxplot = sns.boxplot(data=data, x='baths', ax=axes[1]);\n",
    "boxplot.set_title('Cleaned Full Boxplot');"
   ]
  },
  {
   "cell_type": "markdown",
   "metadata": {},
   "source": [
    "Данные сохранили допустимый уровень выбросов"
   ]
  },
  {
   "cell_type": "code",
   "execution_count": 195,
   "metadata": {},
   "outputs": [
    {
     "data": {
      "text/plain": [
       "baths\n",
       "2     116311\n",
       "0     101076\n",
       "3      67259\n",
       "1      24379\n",
       "4      22039\n",
       "5       5304\n",
       "6       1359\n",
       "7        415\n",
       "8        158\n",
       "10        37\n",
       "9         36\n",
       "12        33\n",
       "11        22\n",
       "Name: count, dtype: int64"
      ]
     },
     "execution_count": 195,
     "metadata": {},
     "output_type": "execute_result"
    }
   ],
   "source": [
    "data['baths'].value_counts()"
   ]
  },
  {
   "cell_type": "markdown",
   "metadata": {},
   "source": [
    "### Обработка признака fireplace"
   ]
  },
  {
   "cell_type": "code",
   "execution_count": 196,
   "metadata": {},
   "outputs": [
    {
     "name": "stdout",
     "output_type": "stream",
     "text": [
      "Количество уникальных значений перед обработкой: \u001b[3m\u001b[33m1393\u001b[0m\n",
      "Количество уникальных значений после обработки: \u001b[3m\u001b[33m13\u001b[0m\n",
      "Данные в формате object\n",
      " fireplace\n",
      "0                253809\n",
      "1                 81740\n",
      "2                  1712\n",
      "gas                 693\n",
      "3                   251\n",
      "electric             79\n",
      "4                    67\n",
      "decorative           58\n",
      "5                     8\n",
      "6                     5\n",
      "7                     3\n",
      "8                     2\n",
      "burning stove         1\n",
      "Name: count, dtype: int64\n"
     ]
    }
   ],
   "source": [
    "# Количество уникальных значений в столбце fireplace перед обработкой\n",
    "fire_uniq = data['fireplace'].nunique()\n",
    "# Приведение всех значений к нижнему регистру\n",
    "data['fireplace'] = data['fireplace'].apply(lambda x: str(x).lower())\n",
    "\n",
    "#  Обработка столбца fireplace\n",
    "def fireplace(fire):\n",
    "    for x in  ['nan', ' no', 'no', 'hot tub', 'heatilator type system', 'extras', 'not applicable', 'study', 'firepit',\\\n",
    "        'extra closets, storage, utility connection, walk-in closets', 'bath features', 'elevator', 'bath']:\n",
    "        fire = str(fire).replace(x, '0').strip()\n",
    "\n",
    "    for y in ['yes', 'one', 'insert', 'in-law quarters', 'dining', 'redecorated', 'basement', 'pellet', 'masonry', '1 fireplace',\\\n",
    "        'outdoors', 'special features', 'log 1burning', 'fireplace', 'living room', 'wood burning', 'fireplace yn', 'fireplace features',\\\n",
    "             'wood', '1 yn', 'in great room', 'number', 'flue', 'coal']:\n",
    "        fire = str(fire).replace(y, '1')\n",
    "\n",
    "    return fire\n",
    "\n",
    "data['fireplace'] = data['fireplace'].apply(lambda x: fireplace(x))\n",
    "\n",
    "# Чтобы не вылавливать все сочетания строчных значений, решил производить замену таким способом\n",
    "data['fireplace'] = data['fireplace'].apply(lambda x: '0' if 'central' in x else x)\n",
    "data['fireplace'] = data['fireplace'].apply(lambda x: '0' if 'no' in x else x)\n",
    "data['fireplace'] = data['fireplace'].apply(lambda x: '0' if 'closets' in x else x)\n",
    "data['fireplace'] = data['fireplace'].apply(lambda x: '0' if 'ceiling fan' in x else x)\n",
    "data['fireplace'] = data['fireplace'].apply(lambda x: '0' if 'air filter' in x else x)\n",
    "data['fireplace'] = data['fireplace'].apply(lambda x: '0' if 'storage' in x else x)\n",
    "data['fireplace'] = data['fireplace'].apply(lambda x: '0' if 'other' in x else x)\n",
    "data['fireplace'] = data['fireplace'].apply(lambda x: '0' if 'agent' in x else x)\n",
    "data['fireplace'] = data['fireplace'].apply(lambda x: '0' if 'n/k' in x else x)\n",
    "data['fireplace'] = data['fireplace'].apply(lambda x: '0' if 'wet bar' in x else x)\n",
    "data['fireplace'] = data['fireplace'].apply(lambda x: '0' if '0' in x else x)\n",
    "\n",
    "data['fireplace'] = data['fireplace'].apply(lambda x: '1' if '1' in x else x)\n",
    "data['fireplace'] = data['fireplace'].apply(lambda x: '1' if 'family' in x else x)\n",
    "data['fireplace'] = data['fireplace'].apply(lambda x: '1' if 'room' in x else x)\n",
    "data['fireplace'] = data['fireplace'].apply(lambda x: '1' if 'brick' in x else x)\n",
    "data['fireplace'] = data['fireplace'].apply(lambda x: '1' if 'metal' in x else x)\n",
    "data['fireplace'] = data['fireplace'].apply(lambda x: '1' if 'factory' in x else x)\n",
    "data['fireplace'] = data['fireplace'].apply(lambda x: '1' if 'direct vent' in x else x)\n",
    "data['fireplace'] = data['fireplace'].apply(lambda x: '1' if 'location' in x else x)\n",
    "data['fireplace'] = data['fireplace'].apply(lambda x: '1' if 'living' in x else x)\n",
    "data['fireplace'] = data['fireplace'].apply(lambda x: '1' if 'fire' in x else x)\n",
    "data['fireplace'] = data['fireplace'].apply(lambda x: '1' if 'den' in x else x)\n",
    "data['fireplace'] = data['fireplace'].apply(lambda x: '1' if 'free' in x else x)\n",
    "data['fireplace'] = data['fireplace'].apply(lambda x: '1' if 'sm' in x else x)\n",
    "data['fireplace'] = data['fireplace'].apply(lambda x: '1' if 'pre' in x else x)\n",
    "\n",
    "data['fireplace'] = data['fireplace'].apply(lambda x: '2' if 'two' in x else x)\n",
    "data['fireplace'] = data['fireplace'].apply(lambda x: '2' if '2' in x else x)\n",
    "\n",
    "data['fireplace'] = data['fireplace'].apply(lambda x: '4' if '3+' in x else x)\n",
    "data['fireplace'] = data['fireplace'].apply(lambda x: '4' if 'four' in x else x)\n",
    "\n",
    "data['fireplace'] = data['fireplace'].apply(lambda x: '5' if '4+' in x else x)\n",
    "\n",
    "data['fireplace'] = data['fireplace'].apply(lambda x: 'gas' if 'gas' in x else x)\n",
    "data['fireplace'] = data['fireplace'].apply(lambda x: 'gas' if 'propane' in x else x)\n",
    "data['fireplace'] = data['fireplace'].apply(lambda x: 'gas' if 'utility connection' in x else x)\n",
    "\n",
    "data['fireplace'] = data['fireplace'].apply(lambda x: 'electric' if 'electric' in x else x)\n",
    "\n",
    "data['fireplace'] = data['fireplace'].apply(lambda x: 'decorative' if 'decorative' in x else x)\n",
    "data['fireplace'] = data['fireplace'].apply(lambda x: 'decorative' if 'ventless' in x else x)\n",
    "\n",
    "data['fireplace'] = data['fireplace'].apply(lambda x: 'burning stove' if 'burning stove' in x else x)\n",
    "data['fireplace'] = data['fireplace'].apply(lambda x: 'burning stove' if 'stove' in x else x)\n",
    "\n",
    "print(f'Количество уникальных значений перед обработкой: \\033[3m\\033[33m{fire_uniq}\\033[0m')\n",
    "print(f'Количество уникальных значений после обработки: \\033[3m\\033[33m{data.fireplace.nunique()}\\033[0m')\n",
    "print(f'Данные в формате object\\n {data.fireplace.value_counts()}')"
   ]
  },
  {
   "cell_type": "markdown",
   "metadata": {},
   "source": [
    "### Обработка столбца beds"
   ]
  },
  {
   "cell_type": "code",
   "execution_count": 197,
   "metadata": {},
   "outputs": [
    {
     "name": "stdout",
     "output_type": "stream",
     "text": [
      "После обработки получил варианты количества кроватей на объекте. В данных прослеживаются выбросы\n",
      "[0, 1, 2, 3, 4, 5, 6, 7, 8, 9, 10, 11, 12, 13, 14, 15, 16, 17, 18, 19, 20, 21, 22, 23, 24, 26, 30, 31, 34, 40, 44, 50, 52, 63, 64, 100, 102, 106, 123, 150, 248, 448, 540, 640, 831, 840, 871]\n",
      "Количество уникальных значениу по столбцу beds до обработки: \u001b[3m\u001b[33m1052\u001b[0m\n",
      "после обработки, уникальных значений: \u001b[3m\u001b[33m47\u001b[0m\n",
      "после удаления выбросов: \u001b[3m\u001b[33m17\u001b[0m\n",
      "После удаления выбросов получил варианты количества кроватей на объекте\n",
      " \u001b[3m\u001b[33m[0, 1, 2, 3, 4, 5, 6, 7, 8, 9, 10, 11, 12, 13, 14, 15, 16]\u001b[0m\n"
     ]
    },
    {
     "data": {
      "image/png": "[encoded data removed]",
      "text/plain": [
       "<Figure size 1500x400 with 2 Axes>"
      ]
     },
     "metadata": {},
     "output_type": "display_data"
    }
   ],
   "source": [
    "# Переменная количества уникальных значений до обработки\n",
    "beds_uniq = data['beds'].nunique()\n",
    "\n",
    "#  Обработка столбца beds\n",
    "def beds(bed):\n",
    "    for x in  [' Beds', ' bd', ' sqft', ' acres', ' acre',  'Bedrooms', '-2']:\n",
    "        bed = str(bed).replace(x, '').replace(',', '.').replace('Baths', '1').replace('Bath', '1').strip()\n",
    "\n",
    "    for y in ['nan', '-- bd', '-- sqft', '--']:\n",
    "        bed = str(bed).replace(y, '0')\n",
    "\n",
    "    return bed\n",
    "    # return int(float(bed))\n",
    "\n",
    "data['beds'] = data['beds'].apply(lambda x: beds(x))\n",
    "\n",
    "data['beds'] = data['beds'].replace('', '0')\n",
    "\n",
    "data['beds'] = data['beds'].apply(lambda x: '1' if 'Refrigerator' in x else x)\n",
    "data['beds'] = data['beds'].apply(lambda x: '0' if 'Based' in x else x)\n",
    "data['beds'] = data['beds'].apply(lambda x: '2' if 'More' in x else x)\n",
    "data['beds'] = data['beds'].apply(lambda x: '1' if 'Cable' in x else x)\n",
    "data['beds'] = data['beds'].apply(lambda x: '0' if 'Floor' in x else x)\n",
    "data['beds'] = data['beds'].replace('1 1. 2', '1')\n",
    "\n",
    "# Преобразование данных в цыфру\n",
    "data['beds'] = data['beds'].apply(lambda x: int(float(x)))\n",
    "# Переменная уникальных значений после обработки\n",
    "beds_uniq_pr = data['beds'].nunique()\n",
    "\n",
    "print('После обработки получил варианты количества кроватей на объекте. В данных прослеживаются выбросы\\n\\\n",
    "{}'.format(sorted(data['beds'].value_counts().index.to_list())))\n",
    "\n",
    "# Удаление выбросов из данных по умолчанию предел в 1,5 квантиля, если надо изменить его, после названия столбца надо указать новые пределы\n",
    "outliers, data = outliers_iqr_mod(data, 'beds', 3, 3)\n",
    "\n",
    "fig, axes = plt.subplots(nrows=1, ncols=2, figsize=(15, 4))\n",
    "histplot = sns.histplot(data=data, x='beds', ax=axes[0]);\n",
    "histplot.set_title('Cleaned Full Distribution');\n",
    "boxplot = sns.boxplot(data=data, x='beds', ax=axes[1]);\n",
    "boxplot.set_title('Cleaned Full Boxplot');\n",
    "\n",
    "print(f'Количество уникальных значениу по столбцу beds до обработки: \\033[3m\\033[33m{beds_uniq}\\033[0m\\n\\\n",
    "после обработки, уникальных значений: \\033[3m\\033[33m{beds_uniq_pr}\\033[0m\\n\\\n",
    "после удаления выбросов: \\033[3m\\033[33m{data.beds.nunique()}\\033[0m')\n",
    "\n",
    "print('После удаления выбросов получил варианты количества кроватей на объекте\\n \\033[3m\\033[33m{}\\033[0m'\\\n",
    "      .format(sorted(data['beds'].value_counts().index.to_list())))"
   ]
  },
  {
   "cell_type": "markdown",
   "metadata": {},
   "source": [
    "Данные сохранили допустимый уровень выбросов"
   ]
  },
  {
   "cell_type": "code",
   "execution_count": 198,
   "metadata": {},
   "outputs": [
    {
     "data": {
      "text/plain": [
       "0               2900\n",
       "1         1,947 sqft\n",
       "2                NaN\n",
       "3           897 sqft\n",
       "4              1,507\n",
       "             ...    \n",
       "338695         1,417\n",
       "338696    2,000 sqft\n",
       "338697    1,152 sqft\n",
       "338698           NaN\n",
       "338699         1,462\n",
       "Name: sqft, Length: 338328, dtype: object"
      ]
     },
     "execution_count": 198,
     "metadata": {},
     "output_type": "execute_result"
    }
   ],
   "source": [
    "data['sqft']"
   ]
  },
  {
   "cell_type": "markdown",
   "metadata": {},
   "source": [
    "### Обработка признака sqft"
   ]
  },
  {
   "cell_type": "code",
   "execution_count": 199,
   "metadata": {},
   "outputs": [],
   "source": [
    "sqft_uniq = data['sqft'].nunique()\n",
    "\n",
    "def sqft_f(sqft_l):\n",
    "    for x in ['sqft', 'Total interior livable area:', ',']:\n",
    "        sqft_l = str(sqft_l).replace(x, '').replace('nan', '0').strip()\n",
    "    \n",
    "    return sqft_l\n",
    "\n",
    "data['sqft'] = data['sqft'].apply(lambda x: sqft_f(x))"
   ]
  },
  {
   "cell_type": "code",
   "execution_count": 200,
   "metadata": {},
   "outputs": [
    {
     "name": "stdout",
     "output_type": "stream",
     "text": [
      "Количество уникальных значений перед обработкой: \u001b[3m\u001b[33m7250\u001b[0m\n",
      "Количество уникальных значений после обработки: \u001b[3m\u001b[33m7249\u001b[0m\n"
     ]
    }
   ],
   "source": [
    "sqft_uniq = data['sqft'].nunique()\n",
    "\n",
    "def sqft_f(sqft_l):\n",
    "    for x in ['sqft', 'Total interior livable area:', ',']:\n",
    "        sqft_l = str(sqft_l).replace(x, '').replace('nan', '0').strip()\n",
    "    \n",
    "    return sqft_l\n",
    "\n",
    "data['sqft'] = data['sqft'].apply(lambda x: sqft_f(x))\n",
    "\n",
    "data['sqft'] = data['sqft'].apply(lambda x: str(x).replace('--', '0').replace('-', ''))\n",
    "\n",
    "data['sqft'] = data['sqft'].apply(lambda x: int(x))\n",
    "data = data.astype({'sqft': \"Int32\"})\n",
    "\n",
    "print(f'Количество уникальных значений перед обработкой: \\033[3m\\033[33m{sqft_uniq}\\033[0m')\n",
    "print(f'Количество уникальных значений после обработки: \\033[3m\\033[33m{data.sqft.nunique()}\\033[0m')"
   ]
  },
  {
   "cell_type": "markdown",
   "metadata": {},
   "source": [
    "### Обработка признака zipcode"
   ]
  },
  {
   "cell_type": "code",
   "execution_count": 151,
   "metadata": {},
   "outputs": [
    {
     "data": {
      "text/plain": [
       "4485"
      ]
     },
     "execution_count": 151,
     "metadata": {},
     "output_type": "execute_result"
    }
   ],
   "source": [
    "data['zipcode'].nunique()"
   ]
  },
  {
   "cell_type": "code",
   "execution_count": 152,
   "metadata": {},
   "outputs": [
    {
     "name": "stdout",
     "output_type": "stream",
     "text": [
      "Значения с ошибкой в данных:\n",
      " \u001b[1m\u001b[36m{'27615-3709', '77015-2522', '27610-4386', '27614-7963', '27606-2647', '27601-1141', '27612-3078', '27713-8797', '27605-1212', '27603-2352', '27610-4307', '27606-2215', '27612-5555', '27704-4346', '27614-7289', '27605-1285', '07004-1809', '27610-6088', '27609-3956', '27705-3530', '07004-1878', '27703-8355', '27609-6973', '27617-7934', '27601-2737', '27617-7891', '27703-2540', '27604-5445', '27603-2089', '27615-6925', '27607-3737', '27712-3233', '27703-9840', '27705-1944', '27615-6225', '27604-6905', '27707-4206', '27610-1749', '27616-6710', '27615-4193', '27610-1748', '07004-1300', '27615-4815', '27613-6949', '27713-8142', '27529-2107', '27604-3789', '27703-7978', '27614-8755', '27712-9088', '27606-4852', '27610-5617', '27603-8266', '27603-2692', '27713-9638', '27701-3539', '27701-4420', '27701-4415', '27529-4367', '27604-6000', '27587-9999', '27608-2709', '27614-8959', '27607-6632', '27704-5164', '27615-6304', '27610-3351', '27613-8607', '27615-1910', '27613-4471', '27614-6791', '27607-7321', '07004-1528', '27713-6643', '27707-2356', '27607-4051', '27607-0000', '27704-5037', '27713-9382', '27615-3622', '27610-1624', '27713-1731', '27615-5438', '27613-3104', '27603-4175', '27703-4238', '27616-8591', '27616-5401', '27616-5777', '27712-0000', '27707-9808', '27603-5255', '27707-5296', '77092-5540', '27615-5231', '27615-8009', '27604-1450', '07004-2137', '27615-2319', '27603-5352', '07004-2116', '27713-9677', '27707-3983', '27703-9424', '27610-5983', '27703-9489', '27603-3445', '27701-1313', '27603-43', '27614-7185', '07004-1607', '27607-3018', '27713-9791', '27713-2517', '27707-3032', '27613-4042', '--', '27610-8519', '27703-7721', '27713-8146', '27615-1459', '27703-4786', '27707-5054', '27713-6702', '27712-3137', '27703-9606', '27713-4509', '27616-6802', '27606-4882', '27603-8534', '27713-9782', '27705-2073', '27603-9111', '27705-1375', '27612-4911', '27603-4374', '27606-2704', '27606-1804', '27603-2161', '27608-1911', '27617-8310', '27705-6108', '27608-1026', '27609-5940', '27713-967', '27608-1511', '07004-1106', '27612-5442', '27713-9675', '27607-5306', '27615-3039', '27608-2067', '27606-4533', '27703-7996', '27703-4259', '27713-8821', '27603-3661', '27704-3845', '27613-6945', '27610-2861', '27603-1994', '07004-1413', '27704-1573', '27612-2605', '27614-9213', '27603-5369', '27604-3469', '27613-1450', '27609-4147', '27603-5512', '27616-9097', '27612-5620', '27615-3876', '27607-7209', '27613-8410', '07004-2214', '27612-3024', '27705-3261', '27617-8314', '27609-4161', '27610-8706', '27601-1443', '27705-2654', '27612-4003', '27606-1626', '27713-9302', '27609-3927', '27604-6105', '27587-9373', '27703-6483', '27703-2896', '27613-7168', '27609-4170', '27616-2760', '27529-5051', '27701-4419', '27613-4237', '27606-0000', '27701-1147', '27614-8380', '27616-8089', '27609-4160', '27603-5569', '27705-9124', '27704-1508', '27529-4334', '27707-4238', '27703-8247', '05441-4400', '27614-9829', '27604-2350', '27608-2604', '27607-4720', '27615-2590', '27608-1822', '27610-4637', '27615-6615'}\u001b[0m\n"
     ]
    }
   ],
   "source": [
    "\n",
    "# Поиск данных с ошибками\n",
    "list_ind = []\n",
    "list_err_sqft = []\n",
    "for y in range(data.shape[0]):\n",
    "    try:\n",
    "        data.loc[y, 'zipcode'] = int(data['zipcode'][y])\n",
    "\n",
    "    except ValueError:\n",
    "        list_err_sqft.append(data['zipcode'][y])\n",
    "        list_ind.append(y)\n",
    "        \n",
    "list_err_sqft = set(list_err_sqft)\n",
    "print(f'Значения с ошибкой в данных:\\n \\033[1m\\033[36m{list_err_sqft}\\033[0m')"
   ]
  },
  {
   "cell_type": "code",
   "execution_count": 153,
   "metadata": {},
   "outputs": [],
   "source": [
    "data['zipcode'] = data['zipcode'].apply(lambda x: str(x).replace('--', '0'))"
   ]
  },
  {
   "cell_type": "code",
   "execution_count": 154,
   "metadata": {},
   "outputs": [
    {
     "data": {
      "text/plain": [
       "4434"
      ]
     },
     "execution_count": 154,
     "metadata": {},
     "output_type": "execute_result"
    }
   ],
   "source": [
    "data['zipcode'].nunique()"
   ]
  },
  {
   "cell_type": "markdown",
   "metadata": {},
   "source": [
    "В значении zipcode при проверке были обнаружины значения с прочерками. Заменил на 0. После этого уникальных значений 4434."
   ]
  },
  {
   "cell_type": "code",
   "execution_count": 205,
   "metadata": {},
   "outputs": [],
   "source": [
    "data.reset_index(inplace=True, drop=True)"
   ]
  },
  {
   "cell_type": "markdown",
   "metadata": {},
   "source": [
    "### Обработка признака stories"
   ]
  },
  {
   "cell_type": "code",
   "execution_count": 210,
   "metadata": {},
   "outputs": [
    {
     "name": "stdout",
     "output_type": "stream",
     "text": [
      "Значения с ошибкой в данных:\n",
      " \u001b[1m\u001b[36m{'1 Story', 'Cabin/Cottage', 'Contemporary', 'Farm House', 'Cape Cod', 'Ground Level, Two', 'Modular Home', '1 Level, Non-Site Built', '1.5 Level', 'Split Foyer', 'Townhouse-2 Story, T3-Townhouse 3+ Stories', 'Multi-Story', 'Traditional', 'Condo', 'One Story', '1 Level, Site Built, Townhouse', 'Federal', 'Unimproved Commercial', 'Ranch/1 Story', '1 Level, 2 Level', '3 Level, Townhouse', 'Multi Level, Tri Level', 'One, Three Or More', 'Co-op', '1 Story/F.R.O.G.', '1.5 Story/Basement', '1.5, 2', '1 Level, Split Foyer', '1 Level, Townhouse', 'Manufactured Home, Non-Site Built', '2 Stories, Tear Down', 'Multi-Level, New Englander', '4 Story', '2 Stories, Townhouse', 'Tri Level', 'Log', 'Other, Two, Multi/Split', '1 Story, Split Level', 'Multi/Split, Two', 'Sixplex', '1, 1', 'Victorian', '2 Stories', '3 Level, Site Built, Tri-Level', 'One', 'Farm', 'Multi/Split', 'Ranch', 'Other Multi-unit', 'Two, Multi/Split', 'Stories/Levels', 'Site Built, Split Level', 'Patio Home', 'Bungalow', '2 Levels', 'Quad Level', 'Double Wide', '3 Level', 'One Level', '1-2 Stories, 3-4 Stories', nan, '2 Story, Split Level', '2 Story, Multi Level', '1 Story, Townhouse', 'Manufactured Singlewide', '3 Level, Site Built, Townhouse', '1 1/2 Levels', '2.5 Story', 'Townhouse', 'Site Built', '1 Level, Condo', 'Acreage', 'One and One Half', 'Chalet', 'Multi Level', '3+', 'Two Stories', 'Lot', '2 Story, Tri Level', '3+ Story', ', 2', 'Condominium', '1 Leveland + Loft', '1.5 Stories', 'Split Entry (Bi-Level)', '1.5 Level, Site Built, Tri-Level', 'One and One Half, Three Or More', 'Two Story or More', 'Tudor', '2 Story', 'Split Level', '2 Level, Condo, Site Built', '3 Level, Condo, Site Built', 'Live/Work', 'Tri/Multi Level', '1 Story, Hillside', '1 Story/Ranch', 'Split Foyer, Tri-Level', '1.5 Level, Site Built', '6+ Stories', 'Commercial', '4 Stories', 'Hillside', '2 Story/Basement', 'Detached', '3 Levels', 'Split Level w/ Sub', 'Triplex', '1.5 Story', 'Loft', 'Three Or More', '2 Level, Site Built', 'Site Built, Tri-Level', 'Duplex', ', 1', '1 Story, 2 Story', 'High-Rise', 'Site Built, Townhouse', 'One, Two', '3 Story, Multi Level', 'One, Two, Multi/Split', '3 Stories', 'Two, Three Or More', 'Condo 5+ Stories', 'Ground Level, One', 'Colonial', 'T3-Townhouse 3+ Stories', '2 Level', 'Tri-Level', '3 Story/Basement', '2 Level, Site Built, Split Foyer', '1 Story, Multi Level', 'Log Home', '1 Level, 1.5 Level', '1 Level, Site Built', 'Three Or More Levels', '1 Level', 'Three Or More, Multi/Split', '3 Story', 'Cape, Other Style', 'Garden', '3 - 5 Stories', 'Total Floors in Bldg', '1 Story Basement', 'Bedroom - Split Plan', 'Bi-Level', 'Ground Level', 'Mobile', 'Condo, Site Built', '3 Level, Site Built', ', 3', 'Raised Ranch', '2 Level, Condo', 'Multi-Level', 'Fourplex', '2 Level, Split Foyer', 'Manufactured Doublewide', '2 Or More Stories', '3-4 Stories', '2 Level, Site Built, Townhouse', '2 Story or 2 Level', 'Site Built, Split Foyer', '1 Level, Condo, Site Built', '3 Level, Site Built, Split Level', 'Mid-Rise', 'Two', 'A Frame', '1-2 Stories', 'Craftsman', '1 1/2 Story'}\u001b[0m\n"
     ]
    }
   ],
   "source": [
    "# Поиск данных с ошибками  при попытке преобразовать значение в int\n",
    "# Тем самы выявлений неординарных строковых значений\n",
    "list_ind_s = []\n",
    "list_err_stories = []\n",
    "for y in range(data.shape[0]):\n",
    "    try:\n",
    "        data.loc[y, 'stories'] = int(float(data['stories'][y]))\n",
    "\n",
    "    except ValueError:\n",
    "        list_err_stories.append(data['stories'][y])\n",
    "        list_ind_s.append(y)\n",
    "        \n",
    "list_err_stories = set(list_err_stories)\n",
    "print(f'Значения с ошибкой в данных:\\n \\033[1m\\033[36m{list_err_stories}\\033[0m')"
   ]
  },
  {
   "cell_type": "code",
   "execution_count": 211,
   "metadata": {},
   "outputs": [],
   "source": [
    "data['stories'] = data['stories'].apply(lambda x: 1 if '1' in str(x) else x)\n",
    "data['stories'] = data['stories'].apply(lambda x: 1 if 'One' in str(x) else x)\n",
    "data['stories'] = data['stories'].apply(lambda x: 1 if 'Ground' in str(x) else x)\n",
    "data['stories'] = data['stories'].apply(lambda x: 1 if 'Modular' in str(x) else x)\n",
    "data['stories'] = data['stories'].apply(lambda x: 1 if 'Farm' in str(x) else x)\n",
    "data['stories'] = data['stories'].apply(lambda x: 1 if 'Patio' in str(x) else x)\n",
    "data['stories'] = data['stories'].apply(lambda x: 1 if 'Ranch' in str(x) else x)\n",
    "\n",
    "data['stories'] = data['stories'].apply(lambda x: 2 if '2' in str(x) else x)\n",
    "data['stories'] = data['stories'].apply(lambda x: 2 if 'Two' in str(x) else x)\n",
    "data['stories'] = data['stories'].apply(lambda x: 2 if 'Double' in str(x) else x)\n",
    "data['stories'] = data['stories'].apply(lambda x: 2 if 'Duplex' in str(x) else x)\n",
    "data['stories'] = data['stories'].apply(lambda x: 2 if 'Bi' in str(x) else x)\n",
    "\n",
    "data['stories'] = data['stories'].apply(lambda x: 3 if '3' in str(x) else x)\n",
    "data['stories'] = data['stories'].apply(lambda x: 3 if 'Tri' in str(x) else x)\n",
    "data['stories'] = data['stories'].apply(lambda x: 3 if 'Three' in str(x) else x)\n",
    "\n",
    "data['stories'] = data['stories'].apply(lambda x: 4 if '4' in str(x) else x)\n",
    "data['stories'] = data['stories'].apply(lambda x: 4 if 'Four' in str(x) else x)\n",
    "data['stories'] = data['stories'].apply(lambda x: 4 if 'Quad' in str(x) else x)\n",
    "\n",
    "data['stories'] = data['stories'].apply(lambda x: 5 if '5' in str(x) else x)\n",
    "\n",
    "data['stories'] = data['stories'].apply(lambda x: 6 if 'Six' in str(x) else x)\n",
    "data['stories'] = data['stories'].apply(lambda x: 6 if '6' in str(x) else x)"
   ]
  },
  {
   "cell_type": "code",
   "execution_count": 212,
   "metadata": {},
   "outputs": [
    {
     "name": "stdout",
     "output_type": "stream",
     "text": [
      "Значения с ошибкой в данных:\n",
      " \u001b[1m\u001b[36m{'Cabin/Cottage', 'Victorian', 'Contemporary', 'Tudor', 'Multi/Split', 'Cape, Other Style', 'Cape Cod', 'Other Multi-unit', 'Garden', 'Stories/Levels', 'Split Level', 'Total Floors in Bldg', 'Bungalow', 'Site Built, Split Level', 'Live/Work', 'Bedroom - Split Plan', nan, 'Mobile', 'Split Foyer', 'Condo, Site Built', 'Multi-Story', 'Commercial', 'Traditional', 'Condo', 'Hillside', 'Detached', 'Split Level w/ Sub', 'Manufactured Singlewide', 'Federal', 'Unimproved Commercial', 'Loft', 'Multi-Level', 'Townhouse', 'Site Built', 'Co-op', 'Acreage', 'High-Rise', 'Chalet', 'Site Built, Townhouse', 'Multi Level', 'Site Built, Split Foyer', 'Lot', 'Mid-Rise', 'A Frame', 'Manufactured Home, Non-Site Built', 'Colonial', 'Craftsman', 'Condominium', 'Multi-Level, New Englander', 'Log', 'Log Home'}\u001b[0m\n"
     ]
    }
   ],
   "source": [
    "# Поиск данных с ошибками  при попытке преобразовать значение в int\n",
    "# Тем самы выявлений неординарных строковых значений\n",
    "list_ind_s = []\n",
    "list_err_stories = []\n",
    "for y in range(data.shape[0]):\n",
    "    try:\n",
    "        data.loc[y, 'stories'] = int(float(data['stories'][y]))\n",
    "\n",
    "    except ValueError:\n",
    "        list_err_stories.append(data['stories'][y])\n",
    "        list_ind_s.append(y)\n",
    "        \n",
    "list_err_stories = set(list_err_stories)\n",
    "print(f'Значения с ошибкой в данных:\\n \\033[1m\\033[36m{list_err_stories}\\033[0m')"
   ]
  },
  {
   "cell_type": "code",
   "execution_count": 213,
   "metadata": {},
   "outputs": [],
   "source": [
    "one_story = ['Manufactured Singlewide', 'Non-Site Built', 'Site Built', 'A Frame', 'Mobile', 'Acreage', 'Bungalow', 'Chalet',\\\n",
    "                'Log', 'Cabin/Cottage', 'Log Home']\n",
    "data['stories'] = data['stories'].apply(lambda x: '1' if x in one_story else x)\n",
    "\n",
    "two_story = ['New Englander', 'Split Level', 'Stories/Levels', 'Split Foyer', 'Cape Cod', 'Colonial', 'Cape, Other Style',\\\n",
    "            'Site Built, Split Level', 'Split Level w/ Sub', 'Craftsman', 'Contemporary', 'Bedroom - Split Plan', 'Detached',\\\n",
    "                  'Site Built, Split Foyer']\n",
    "data['stories'] = data['stories'].apply(lambda x: '2' if x in two_story else x)\n",
    "\n",
    "three_story = ['Federal', 'Garden', 'Victorian', 'Traditional']\n",
    "data['stories'] = data['stories'].apply(lambda x: '3' if x in three_story else x)\n",
    "\n",
    "six_story = ['Mid-Rise', 'loft', 'Loft', 'Hillside', 'Townhouse', 'Tudor', 'Site Built, Townhouse']\n",
    "data['stories'] = data['stories'].apply(lambda x: '6' if x in six_story else x)\n",
    "\n",
    "twelve_story = ['Multi-Level', 'Multi Level', 'Other Multi-unit', 'Multi-Story', 'Live/Work', 'Condo', 'High-Rise',\\\n",
    "                  'Condominium', 'Co-op', 'Multi/Split', 'Condo, Site Built', 'Multi-Level, New Englander']\n",
    "data['stories'] = data['stories'].apply(lambda x: '12' if x in twelve_story else x)\n",
    "\n",
    "nan_story = ['Manufactured Home', 'Non-Site Built', 'Site Built', 'Unimproved Commercial', 'Commercial', 'Total Floors in Bldg',\\\n",
    "             'Manufactured Home, Non-Site Built', 'Lot']\n",
    "data['stories'] = data['stories'].apply(lambda x: 'nan' if x in nan_story else x)\n"
   ]
  },
  {
   "cell_type": "code",
   "execution_count": 215,
   "metadata": {},
   "outputs": [
    {
     "name": "stdout",
     "output_type": "stream",
     "text": [
      "Значения с ошибкой в данных:\n",
      " \u001b[1m\u001b[36m{'nan', nan}\u001b[0m\n"
     ]
    }
   ],
   "source": [
    "# Поиск данных с ошибками  при попытке преобразовать значение в int\n",
    "# Тем самы выявлений неординарных строковых значений\n",
    "list_ind_s = []\n",
    "list_err_stories = []\n",
    "for y in range(data.shape[0]):\n",
    "    try:\n",
    "        data.loc[y, 'stories'] = int(float(data['stories'][y]))\n",
    "\n",
    "    except ValueError:\n",
    "        list_err_stories.append(data['stories'][y])\n",
    "        list_ind_s.append(y)\n",
    "        \n",
    "list_err_stories = set(list_err_stories)\n",
    "print(f'Значения с ошибкой в данных:\\n \\033[1m\\033[36m{list_err_stories}\\033[0m')"
   ]
  },
  {
   "cell_type": "code",
   "execution_count": 216,
   "metadata": {},
   "outputs": [],
   "source": [
    "data['stories'] = data['stories'].fillna('nan')"
   ]
  },
  {
   "cell_type": "code",
   "execution_count": 217,
   "metadata": {},
   "outputs": [
    {
     "data": {
      "text/plain": [
       "0"
      ]
     },
     "execution_count": 217,
     "metadata": {},
     "output_type": "execute_result"
    }
   ],
   "source": [
    "data['stories'].isna().sum()"
   ]
  },
  {
   "cell_type": "markdown",
   "metadata": {},
   "source": [
    "### Обработка признака mls-id, MlsId"
   ]
  },
  {
   "cell_type": "code",
   "execution_count": 218,
   "metadata": {},
   "outputs": [],
   "source": [
    "# Стандартизация значений по признаку\n",
    "data['mls-id'] = data['mls-id'].apply(lambda x: str(x).lower())\n",
    "data['mls-id'] = data['mls-id'].apply(lambda x: '0' if 'no' in x else x)\n",
    "data['mls-id'] = data['mls-id'].apply(lambda x: '0' if 'nan' in x else x)"
   ]
  },
  {
   "cell_type": "code",
   "execution_count": 219,
   "metadata": {},
   "outputs": [
    {
     "data": {
      "text/plain": [
       "mls-id\n",
       "0             315240\n",
       "19079093           2\n",
       "a10518254          2\n",
       "20193103           2\n",
       "201909859          2\n",
       "               ...  \n",
       "181965             1\n",
       "48835415           1\n",
       "957286             1\n",
       "tr19266168         1\n",
       "f10202858          1\n",
       "Name: count, Length: 23064, dtype: int64"
      ]
     },
     "execution_count": 219,
     "metadata": {},
     "output_type": "execute_result"
    }
   ],
   "source": [
    "data['mls-id'].value_counts()"
   ]
  },
  {
   "cell_type": "code",
   "execution_count": 220,
   "metadata": {},
   "outputs": [],
   "source": [
    "# Стандартизация значений по признаку\n",
    "data['MlsId'] = data['MlsId'].apply(lambda x: str(x).lower())\n",
    "data['MlsId'] = data['MlsId'].apply(lambda x: '0' if 'no' in x else x)\n",
    "data['MlsId'] = data['MlsId'].apply(lambda x: '0' if 'nan' in x else x)\n",
    "data['MlsId'] = data['MlsId'].apply(lambda x: str(x).split(','))"
   ]
  },
  {
   "cell_type": "markdown",
   "metadata": {},
   "source": [
    "В ходе исследования выяснилось, что в данных MlsId есть значения разной длины, \n",
    "1. просто значение\n",
    "2. на два значения\n",
    "3. на три значения\n",
    "4. на четыре значения"
   ]
  },
  {
   "cell_type": "code",
   "execution_count": 221,
   "metadata": {},
   "outputs": [
    {
     "name": "stdout",
     "output_type": "stream",
     "text": [
      "[' 5504', ' fl 32821']\n",
      "[' 158xx', ' fl 33185']\n",
      "[' 161xx', ' fl 33185']\n"
     ]
    }
   ],
   "source": [
    "for x in range(data.shape[0]):\n",
    "    if len(data['MlsId'][x]) == 2:\n",
    "        print(data['MlsId'][x])"
   ]
  },
  {
   "cell_type": "code",
   "execution_count": 222,
   "metadata": {},
   "outputs": [
    {
     "data": {
      "text/plain": [
       "[[' 402', ' houston', ' tx 77098'],\n",
       " [' 23125', ' miami', ' fl 33170'],\n",
       " [' b', ' houston', ' tx 77021']]"
      ]
     },
     "execution_count": 222,
     "metadata": {},
     "output_type": "execute_result"
    }
   ],
   "source": [
    "list_3 = []\n",
    "for x in range(data.shape[0]):\n",
    "    if len(data['MlsId'][x]) == 3:\n",
    "        list_3.append(data['MlsId'][x])\n",
    "list_3[:3]"
   ]
  },
  {
   "cell_type": "code",
   "execution_count": 223,
   "metadata": {},
   "outputs": [
    {
     "data": {
      "text/plain": [
       "[['0067', ' royal cypress preserve', ' orlando', ' fl 32836'],\n",
       " ['0264', ' edison - heritage collection', ' jacksonville', ' fl 32256'],\n",
       " ['0086', ' belterra - estate collection', ' austin', ' tx 78737']]"
      ]
     },
     "execution_count": 223,
     "metadata": {},
     "output_type": "execute_result"
    }
   ],
   "source": [
    "list_4 = []\n",
    "for x in range(data.shape[0]):\n",
    "    if len(data['MlsId'][x]) == 4:\n",
    "        list_4.append(data['MlsId'][x])\n",
    "list_4[:3]"
   ]
  },
  {
   "cell_type": "code",
   "execution_count": 224,
   "metadata": {},
   "outputs": [],
   "source": [
    "data['MlsId'] = data['MlsId'].apply(lambda x: x[1].strip() if len(x) == 2 else x)\n",
    "data['MlsId'] = data['MlsId'].apply(lambda x: x[2].strip() if len(x) == 3 else x)\n",
    "data['MlsId'] = data['MlsId'].apply(lambda x: x[3].strip() if len(x) == 4 else x)\n",
    "\n",
    "data['MlsId'] = data['MlsId'].apply(lambda x: x[0].strip())"
   ]
  },
  {
   "cell_type": "code",
   "execution_count": 225,
   "metadata": {},
   "outputs": [
    {
     "name": "stdout",
     "output_type": "stream",
     "text": [
      "После обработки признака mls-id в данных получилось \u001b[3m\u001b[33m23064\u001b[0m уникальных значений\n",
      "После обработки признака MlsId в данных получилось \u001b[3m\u001b[33m203767\u001b[0m уникальных значений\n"
     ]
    }
   ],
   "source": [
    "print('После обработки признака mls-id в данных получилось \\033[3m\\033[33m{}\\033[0m уникальных значений'.format(data['mls-id'].nunique())) \n",
    "print('После обработки признака MlsId в данных получилось \\033[3m\\033[33m{}\\033[0m уникальных значений'.format(data['MlsId'].nunique())) "
   ]
  },
  {
   "cell_type": "markdown",
   "metadata": {},
   "source": [
    "Признаки mls-id, MlsId обозначают один тип данных с разным написанием и являются взаимодополняющими. \n",
    "\n",
    "Объединяю значения из этих признаков в одном MlsId"
   ]
  },
  {
   "cell_type": "code",
   "execution_count": 226,
   "metadata": {},
   "outputs": [
    {
     "name": "stdout",
     "output_type": "stream",
     "text": [
      "При объединении mls-id и MlsId было сделано \u001b[3m\u001b[33m23088\u001b[0m дополнений в признак MlsId вместо 0 значений\n",
      "Итоговое количество уникальных значений в признаке MlsId: \u001b[3m\u001b[33m218861\u001b[0m \n"
     ]
    }
   ],
   "source": [
    "c = 0\n",
    "for x in range(data.shape[0]):\n",
    "    if data['mls-id'][x] != '0' and data['MlsId'][x] == '0':\n",
    "        data.loc[x, 'MlsId'] = data['mls-id'][x]\n",
    "        c += 1\n",
    "print(f'При объединении mls-id и MlsId было сделано \\033[3m\\033[33m{c}\\033[0m дополнений в признак MlsId вместо 0 значений')\n",
    "print('Итоговое количество уникальных значений в признаке MlsId: \\033[3m\\033[33m{}\\033[0m '.format(data['MlsId'].nunique())) "
   ]
  },
  {
   "cell_type": "markdown",
   "metadata": {},
   "source": [
    "Признак mls-id удаляется"
   ]
  },
  {
   "cell_type": "code",
   "execution_count": null,
   "metadata": {},
   "outputs": [],
   "source": [
    "data.drop('mls_id', axis=1, inplace=True)"
   ]
  },
  {
   "cell_type": "markdown",
   "metadata": {},
   "source": [
    "### Обработка признака Price/sqft"
   ]
  },
  {
   "cell_type": "code",
   "execution_count": 24,
   "metadata": {},
   "outputs": [
    {
     "data": {
      "text/plain": [
       "Price/sqft\n",
       "                   52057\n",
       "0                   5255\n",
       "122                 1443\n",
       "121                 1436\n",
       "123                 1434\n",
       "                   ...  \n",
       "901 / Sq. Ft.          1\n",
       "10714 / Sq. Ft.        1\n",
       "1.495                  1\n",
       "1185 / Sq. Ft.         1\n",
       "1.727                  1\n",
       "Name: count, Length: 2573, dtype: int64"
      ]
     },
     "execution_count": 24,
     "metadata": {},
     "output_type": "execute_result"
    }
   ],
   "source": [
    "data['Price/sqft'].value_counts()"
   ]
  },
  {
   "cell_type": "code",
   "execution_count": 54,
   "metadata": {},
   "outputs": [],
   "source": [
    "# Замена строковых значений, что сразу были заметны\n",
    "data['Price/sqft'] = data['Price/sqft'].apply(lambda x: str(x).replace('/ Sq. Ft.', '').replace('.', '').strip())\n",
    "data['Price/sqft'] = data['Price/sqft'].apply(lambda x: '0' if x == '' else x)"
   ]
  },
  {
   "cell_type": "code",
   "execution_count": 57,
   "metadata": {},
   "outputs": [
    {
     "name": "stdout",
     "output_type": "stream",
     "text": [
      "Значения с ошибкой в данных:\n",
      " \u001b[1m\u001b[36m{'nan', 'No Data', 'Contact manager', 'No Info'}\u001b[0m\n",
      "Всего данных с ошибкой :\n",
      " \u001b[1m\u001b[36m1961\u001b[0m\n"
     ]
    }
   ],
   "source": [
    "# Поиск данных с ошибками  при попытке преобразовать значение в int\n",
    "# Тем самы выявлений неординарных строковых значений\n",
    "list_ind_pr = []\n",
    "list_err_pr = []\n",
    "for y in range(data.shape[0]):\n",
    "    try:\n",
    "        data.loc[y, 'Price/sqft'] = int(float(data['Price/sqft'][y]))\n",
    "\n",
    "    except ValueError:\n",
    "        list_err_pr.append(data['Price/sqft'][y])\n",
    "        list_ind_pr.append(y)\n",
    "        \n",
    "list_err_pr = set(list_err_pr)\n",
    "print(f'Значения с ошибкой в данных:\\n \\033[1m\\033[36m{list_err_pr}\\033[0m')\n",
    "print(f'Всего данных с ошибкой :\\n \\033[1m\\033[36m{len(list_ind_pr)}\\033[0m')"
   ]
  },
  {
   "cell_type": "code",
   "execution_count": 59,
   "metadata": {},
   "outputs": [],
   "source": [
    "# Замена всех строковых значений в признаке на 0\n",
    "for err_pr in list_err_pr:\n",
    "    data['Price/sqft'] = data['Price/sqft'].apply(lambda x: str(x).replace(err_pr, '0').strip())"
   ]
  },
  {
   "cell_type": "code",
   "execution_count": 64,
   "metadata": {},
   "outputs": [
    {
     "data": {
      "text/plain": [
       "Price/sqft\n",
       "0       59273\n",
       "125      1720\n",
       "121      1708\n",
       "128      1704\n",
       "123      1698\n",
       "        ...  \n",
       "1284        1\n",
       "1459        1\n",
       "1227        1\n",
       "1177        1\n",
       "1727        1\n",
       "Name: count, Length: 1573, dtype: int64"
      ]
     },
     "execution_count": 64,
     "metadata": {},
     "output_type": "execute_result"
    }
   ],
   "source": [
    "data['Price/sqft'].value_counts()"
   ]
  },
  {
   "cell_type": "code",
   "execution_count": 3,
   "metadata": {},
   "outputs": [],
   "source": [
    "# Копирование данных\n",
    "data_1 = data.copy()"
   ]
  },
  {
   "cell_type": "code",
   "execution_count": 4,
   "metadata": {},
   "outputs": [
    {
     "name": "stdout",
     "output_type": "stream",
     "text": [
      "Уникальных значений в status: 10\n",
      "Уникальных значений в propertyType: 32\n",
      "Уникальных значений в street: 302861\n",
      "Уникальных значений в fireplace: 13\n",
      "Уникальных значений в city: 1847\n",
      "Уникальных значений в zipcode: 4433\n",
      "Уникальных значений в state: 39\n",
      "Уникальных значений в PrivatePool: 2\n",
      "Уникальных значений в MlsId: 218861\n",
      "Уникальных значений в preschool_name: 2113\n",
      "Уникальных значений в elementary_name: 11985\n",
      "Уникальных значений в middle_name: 3738\n",
      "Уникальных значений в high_name: 10715\n",
      "Уникальных значений в Year built: 220\n",
      "Уникальных значений в Remodeled year: 147\n",
      "Уникальных значений в Heating: 20\n",
      "Уникальных значений в Cooling: 8\n",
      "Уникальных значений в Parking: 25\n",
      "Уникальных значений в lotsize: 3875\n",
      "Список признаков с большим количеством уникальных значений: ['street', 'zipcode', 'MlsId', 'preschool_name', 'elementary_name', 'middle_name', 'high_name', 'lotsize']\n"
     ]
    }
   ],
   "source": [
    "# Замена пропусков no data  на 0\n",
    "data_1['Year built'] = data_1['Year built'].replace('no data', '0')\n",
    "data_1['Remodeled year'] = data_1['Remodeled year'].replace('no data', '0')\n",
    "data_1['stories'] = data_1['stories'].apply(lambda x: float(str(x).replace('no data', '0')))\n",
    "data_1['lotsize'] = data_1['lotsize'].replace('no data', '0')\n",
    "\n",
    "# Разделение признаков типа object на варианты кодирования\n",
    "# Кодировка выявленных признаков с числом уникальных значений до 1848 (выбрано в ручную исходя из общей таблицы)\n",
    "# Удаление исходных признаков кроме тех, что кодировались с заменой в том же столбце (бинарный вариант)\n",
    "list_drop = []\n",
    "list_34 = []\n",
    "lab = LabelEncoder()\n",
    "for x in data_1.columns:\n",
    "    if data_1[x].dtype == 'object':\n",
    "        if data_1[x].nunique() == 2:\n",
    "            data_1[x] = data_1[x].apply(lambda x: 0 if x == 'no' else 1)\n",
    "        if 2 < data_1[x].nunique() <= 15:\n",
    "            list_drop.append(x)\n",
    "            data_1[x + '_codir'] = lab.fit_transform(data_1[x])\n",
    "        if 15 < data_1[x].nunique() <= 1848:\n",
    "            list_drop.append(x)\n",
    "            bin_encoder = ce.BinaryEncoder(cols=[x]) # указываем столбец для кодирования\n",
    "            type_bin = bin_encoder.fit_transform(data_1[x])\n",
    "            data_1 = pd.concat([data_1, type_bin], axis=1)\n",
    "        if data_1[x].nunique() > 1848:\n",
    "            list_34.append(x)\n",
    "        print(f'Уникальных значений в {x}: {data_1[x].nunique()}')\n",
    "\n",
    "data_1.drop(list_drop, axis=1, inplace=True)\n",
    "print(f'Список признаков с большим количеством уникальных значений: {list_34}')"
   ]
  },
  {
   "cell_type": "code",
   "execution_count": 5,
   "metadata": {},
   "outputs": [
    {
     "data": {
      "text/plain": [
       "['status',\n",
       " 'propertyType',\n",
       " 'fireplace',\n",
       " 'city',\n",
       " 'state',\n",
       " 'Year built',\n",
       " 'Remodeled year',\n",
       " 'Heating',\n",
       " 'Cooling',\n",
       " 'Parking']"
      ]
     },
     "execution_count": 5,
     "metadata": {},
     "output_type": "execute_result"
    }
   ],
   "source": [
    "# Список удалённых столбцов после кодирования\n",
    "list_drop"
   ]
  },
  {
   "cell_type": "code",
   "execution_count": 6,
   "metadata": {},
   "outputs": [
    {
     "name": "stdout",
     "output_type": "stream",
     "text": [
      "street\n",
      "zipcode\n",
      "MlsId\n",
      "preschool_name\n",
      "elementary_name\n",
      "middle_name\n",
      "high_name\n",
      "lotsize\n"
     ]
    }
   ],
   "source": [
    "# Кодирование признаков с большим числом уникальных значений\n",
    "# Через np.array что просто нереально сокращает время процесса\n",
    "multi = MultiLabelBinarizer()\n",
    "for x in list_34:\n",
    "    print(x)\n",
    "    data_1[x] = data_1[x].fillna('0')\n",
    "    mls_kodir = multi.fit_transform(data_1[x])\n",
    "    np_temp = np.empty((mls_kodir.shape[0], 1))\n",
    "    for ind in range(data_1.shape[0]):\n",
    "        np_temp[ind] = mls_kodir[ind].mean()\n",
    "        \n",
    "    data_1[x] = pd.DataFrame(np_temp)"
   ]
  },
  {
   "cell_type": "code",
   "execution_count": 7,
   "metadata": {},
   "outputs": [],
   "source": [
    "X = data_1.drop('target', axis=1)\n",
    "y = data_1['target']\n",
    "# Разделим выборку на тренировочную и тестовую\n",
    "X_train, X_test, y_train, y_test = train_test_split(\n",
    "    X, y, test_size=0.2, random_state=42)"
   ]
  },
  {
   "cell_type": "markdown",
   "metadata": {},
   "source": [
    "### Обучение ML модели RandomForest "
   ]
  },
  {
   "cell_type": "code",
   "execution_count": 8,
   "metadata": {},
   "outputs": [
    {
     "name": "stdout",
     "output_type": "stream",
     "text": [
      "Метрика r2 ML модели RandomForestRegressor \u001b[3m\u001b[33m0.9130480262551586\u001b[0m\n",
      "CPU times: user 9min 20s, sys: 631 ms, total: 9min 21s\n",
      "Wall time: 9min 21s\n"
     ]
    }
   ],
   "source": [
    "%%time\n",
    "\n",
    "rand_for = RandomForestRegressor()\n",
    "model = rand_for.fit(X_train, y_train)\n",
    "y_pred = model.predict(X_test)\n",
    "metrica_rforest_with_zero = metrics.r2_score(y_test, y_pred)\n",
    "print(f'Метрика r2 ML модели RandomForestRegressor \\033[3m\\033[33m{metrica_rforest_with_zero}\\033[0m')"
   ]
  },
  {
   "cell_type": "code",
   "execution_count": 9,
   "metadata": {},
   "outputs": [
    {
     "data": {
      "image/png": "[encoded data removed]",
      "text/plain": [
       "<Figure size 1300x1500 with 1 Axes>"
      ]
     },
     "metadata": {},
     "output_type": "display_data"
    }
   ],
   "source": [
    "# Вывод графика с важностью признаков для target\n",
    "fig, ax = plt.subplots(figsize=(13, 15)) #фигура + координатная плоскость\n",
    "feature = X_train.columns #признаки\n",
    "feature_importances = model.feature_importances_ #важность признаков\n",
    "#Строим столбчатую диаграмму\n",
    "sns.barplot(x=feature_importances, y=feature, ax=ax);\n",
    "#Добавляем подпись графику, осям абсцисс и ординат\n",
    "ax.set_title('Bar plot feature importances')\n",
    "ax.set_xlabel('Features')\n",
    "ax.set_ylabel('Importances');"
   ]
  },
  {
   "cell_type": "markdown",
   "metadata": {},
   "source": [
    "Исходя из полученного графика видно, что самое большое влияние на цену недвижимости имеют площадь и цена за единицу измерения"
   ]
  },
  {
   "cell_type": "markdown",
   "metadata": {},
   "source": [
    "### Обучение ML модели Catboost \n",
    "\n",
    "так как CatBoost не нуждается в предварительной кодировке данных типа object. Кодировку не провожу."
   ]
  },
  {
   "cell_type": "code",
   "execution_count": 10,
   "metadata": {},
   "outputs": [],
   "source": [
    "data_1 = data.copy()"
   ]
  },
  {
   "cell_type": "code",
   "execution_count": 12,
   "metadata": {},
   "outputs": [
    {
     "name": "stdout",
     "output_type": "stream",
     "text": [
      "0:\tlearn: 227195.4908380\ttotal: 75.8ms\tremaining: 7.51s\n",
      "99:\tlearn: 69727.7339939\ttotal: 7.62s\tremaining: 0us\n",
      "Метрика R2: \u001b[3m\u001b[33m{0.9203685141383382}\u001b[0m\n",
      "CPU times: user 19.3 s, sys: 2.5 s, total: 21.8 s\n",
      "Wall time: 23.2 s\n"
     ]
    }
   ],
   "source": [
    "%%time\n",
    "features = data_1.columns.difference(['target'])  # All columns except 'stories'\n",
    "target = 'target'\n",
    "\n",
    "# Convert categorical features to strings\n",
    "categorical_features = data_1[features].select_dtypes(include=['object']).columns\n",
    "for feature in categorical_features:\n",
    "    data_1[feature] = data_1[feature].astype(str)\n",
    "\n",
    "X = data_1[features]\n",
    "y = data_1[target]\n",
    "# Разделим выборку на тренировочную и тестовую\n",
    "X_train, X_test, y_train, y_test = train_test_split(\n",
    "    X, y, test_size=0.2, random_state=42)\n",
    "\n",
    "# Создание списка номеров признаков с типом объект\n",
    "categorical_features_indices = np.where(X_train.dtypes == 'object')[0]\n",
    "\n",
    "# Create CatBoost pools for training and testing\n",
    "train_pool = Pool(data=X_train, label=y_train, cat_features = categorical_features_indices)\n",
    "test_pool = Pool(data=X_test, label=y_test, cat_features = categorical_features_indices)\n",
    "\n",
    "# Train the CatBoost model\n",
    "model = CatBoostRegressor(iterations=100, depth=11, learning_rate=0.1, loss_function='RMSE', nan_mode='Min', verbose=100, task_type=\"GPU\",\n",
    "                           devices='0')\n",
    "model.fit(train_pool)\n",
    "metrica_catboost_with_zero = metrics.r2_score(y_test, model.predict(X_test))\n",
    "print('Метрика R2: \\033[3m\\033[33m{}\\033[0m'.format({metrica_catboost_with_zero}))"
   ]
  },
  {
   "cell_type": "markdown",
   "metadata": {},
   "source": [
    "***Показатели обоих моделей ML имеют схожие уровни.***\n",
    "\n",
    "***Высокий уровень метрики стал возможным благодаря хорошей очистке исходных данных.***\n",
    "\n",
    "Но проведу замену пропусков. Сравню итоговые метрики"
   ]
  },
  {
   "cell_type": "code",
   "execution_count": 22,
   "metadata": {},
   "outputs": [
    {
     "name": "stdout",
     "output_type": "stream",
     "text": [
      "Статистика по нулевым значениям в столбцах:\n"
     ]
    },
    {
     "data": {
      "text/html": [
       "<div>\n",
       "<style scoped>\n",
       "    .dataframe tbody tr th:only-of-type {\n",
       "        vertical-align: middle;\n",
       "    }\n",
       "\n",
       "    .dataframe tbody tr th {\n",
       "        vertical-align: top;\n",
       "    }\n",
       "\n",
       "    .dataframe thead th {\n",
       "        text-align: right;\n",
       "    }\n",
       "</style>\n",
       "<table border=\"1\" class=\"dataframe\">\n",
       "  <thead>\n",
       "    <tr style=\"text-align: right;\">\n",
       "      <th></th>\n",
       "      <th>status</th>\n",
       "      <th>propertyType</th>\n",
       "      <th>street</th>\n",
       "      <th>baths</th>\n",
       "      <th>city</th>\n",
       "      <th>sqft</th>\n",
       "      <th>beds</th>\n",
       "      <th>stories</th>\n",
       "      <th>target</th>\n",
       "      <th>preschool_col</th>\n",
       "      <th>...</th>\n",
       "      <th>elementary_col</th>\n",
       "      <th>elementary_distance</th>\n",
       "      <th>elementary_rating</th>\n",
       "      <th>middle_col</th>\n",
       "      <th>middle_distance</th>\n",
       "      <th>middle_rating</th>\n",
       "      <th>high_col</th>\n",
       "      <th>high_distance</th>\n",
       "      <th>high_rating</th>\n",
       "      <th>Price/sqft</th>\n",
       "    </tr>\n",
       "  </thead>\n",
       "  <tbody>\n",
       "    <tr>\n",
       "      <th>0</th>\n",
       "      <td>{'Процент_пропусков': 10.6781}</td>\n",
       "      <td>{'Процент_пропусков': 8.584}</td>\n",
       "      <td>{'Процент_пропусков': 0.0006}</td>\n",
       "      <td>{'Процент_пропусков': 29.8497}</td>\n",
       "      <td>{'Процент_пропусков': 0.0086}</td>\n",
       "      <td>{'Процент_пропусков': 13.8448}</td>\n",
       "      <td>{'Процент_пропусков': 25.209}</td>\n",
       "      <td>{'Процент_пропусков': 42.1623}</td>\n",
       "      <td>{'Процент_пропусков': 0.7324}</td>\n",
       "      <td>{'Процент_пропусков': 88.1213}</td>\n",
       "      <td>...</td>\n",
       "      <td>{'Процент_пропусков': 22.039}</td>\n",
       "      <td>{'Процент_пропусков': 22.0694}</td>\n",
       "      <td>{'Процент_пропусков': 22.764}</td>\n",
       "      <td>{'Процент_пропусков': 26.9333}</td>\n",
       "      <td>{'Процент_пропусков': 26.9363}</td>\n",
       "      <td>{'Процент_пропусков': 29.0026}</td>\n",
       "      <td>{'Процент_пропусков': 4.4439}</td>\n",
       "      <td>{'Процент_пропусков': 4.4927}</td>\n",
       "      <td>{'Процент_пропусков': 5.482}</td>\n",
       "      <td>{'Процент_пропусков': 17.5194}</td>\n",
       "    </tr>\n",
       "    <tr>\n",
       "      <th>1</th>\n",
       "      <td>object</td>\n",
       "      <td>object</td>\n",
       "      <td>object</td>\n",
       "      <td>int64</td>\n",
       "      <td>object</td>\n",
       "      <td>int64</td>\n",
       "      <td>int64</td>\n",
       "      <td>float64</td>\n",
       "      <td>int64</td>\n",
       "      <td>int64</td>\n",
       "      <td>...</td>\n",
       "      <td>int64</td>\n",
       "      <td>float64</td>\n",
       "      <td>float64</td>\n",
       "      <td>int64</td>\n",
       "      <td>float64</td>\n",
       "      <td>float64</td>\n",
       "      <td>int64</td>\n",
       "      <td>float64</td>\n",
       "      <td>float64</td>\n",
       "      <td>int64</td>\n",
       "    </tr>\n",
       "    <tr>\n",
       "      <th>2</th>\n",
       "      <td>[7, 12, 26, 50, 51, 53, 88, 90, 95, 109, 115, ...</td>\n",
       "      <td>[5, 13, 20, 33, 35, 40, 54, 67, 74, 81, 91, 96...</td>\n",
       "      <td>[98407, 152433]</td>\n",
       "      <td>[2, 3, 4, 5, 9, 28, 33, 34, 35, 40, 41, 42, 52...</td>\n",
       "      <td>[19290, 23710, 54660, 73051, 109573, 110596, 1...</td>\n",
       "      <td>[2, 5, 20, 33, 34, 35, 40, 41, 42, 46, 54, 60,...</td>\n",
       "      <td>[2, 4, 5, 9, 33, 34, 35, 40, 41, 42, 52, 54, 5...</td>\n",
       "      <td>[0, 2, 5, 6, 8, 13, 16, 20, 21, 25, 27, 28, 33...</td>\n",
       "      <td>[51, 82, 105, 147, 152, 239, 240, 250, 278, 41...</td>\n",
       "      <td>[1, 2, 5, 7, 8, 9, 10, 11, 12, 13, 14, 15, 16,...</td>\n",
       "      <td>...</td>\n",
       "      <td>[3, 6, 8, 18, 23, 35, 38, 43, 66, 70, 71, 78, ...</td>\n",
       "      <td>[3, 6, 8, 18, 23, 24, 35, 38, 43, 66, 70, 71, ...</td>\n",
       "      <td>[3, 6, 8, 18, 23, 35, 38, 43, 63, 66, 70, 71, ...</td>\n",
       "      <td>[3, 4, 8, 13, 14, 16, 18, 23, 26, 29, 30, 40, ...</td>\n",
       "      <td>[3, 4, 8, 13, 14, 16, 18, 23, 26, 29, 30, 40, ...</td>\n",
       "      <td>[1, 3, 4, 8, 13, 14, 16, 18, 23, 26, 29, 30, 3...</td>\n",
       "      <td>[3, 14, 23, 66, 71, 106, 126, 133, 161, 179, 2...</td>\n",
       "      <td>[3, 14, 23, 66, 71, 106, 126, 133, 161, 179, 2...</td>\n",
       "      <td>[3, 14, 23, 66, 71, 82, 106, 126, 133, 138, 16...</td>\n",
       "      <td>[2, 20, 33, 34, 35, 40, 41, 42, 46, 50, 51, 54...</td>\n",
       "    </tr>\n",
       "  </tbody>\n",
       "</table>\n",
       "<p>3 rows × 22 columns</p>\n",
       "</div>"
      ],
      "text/plain": [
       "                                              status  \\\n",
       "0                     {'Процент_пропусков': 10.6781}   \n",
       "1                                             object   \n",
       "2  [7, 12, 26, 50, 51, 53, 88, 90, 95, 109, 115, ...   \n",
       "\n",
       "                                        propertyType  \\\n",
       "0                       {'Процент_пропусков': 8.584}   \n",
       "1                                             object   \n",
       "2  [5, 13, 20, 33, 35, 40, 54, 67, 74, 81, 91, 96...   \n",
       "\n",
       "                          street  \\\n",
       "0  {'Процент_пропусков': 0.0006}   \n",
       "1                         object   \n",
       "2                [98407, 152433]   \n",
       "\n",
       "                                               baths  \\\n",
       "0                     {'Процент_пропусков': 29.8497}   \n",
       "1                                              int64   \n",
       "2  [2, 3, 4, 5, 9, 28, 33, 34, 35, 40, 41, 42, 52...   \n",
       "\n",
       "                                                city  \\\n",
       "0                      {'Процент_пропусков': 0.0086}   \n",
       "1                                             object   \n",
       "2  [19290, 23710, 54660, 73051, 109573, 110596, 1...   \n",
       "\n",
       "                                                sqft  \\\n",
       "0                     {'Процент_пропусков': 13.8448}   \n",
       "1                                              int64   \n",
       "2  [2, 5, 20, 33, 34, 35, 40, 41, 42, 46, 54, 60,...   \n",
       "\n",
       "                                                beds  \\\n",
       "0                      {'Процент_пропусков': 25.209}   \n",
       "1                                              int64   \n",
       "2  [2, 4, 5, 9, 33, 34, 35, 40, 41, 42, 52, 54, 5...   \n",
       "\n",
       "                                             stories  \\\n",
       "0                     {'Процент_пропусков': 42.1623}   \n",
       "1                                            float64   \n",
       "2  [0, 2, 5, 6, 8, 13, 16, 20, 21, 25, 27, 28, 33...   \n",
       "\n",
       "                                              target  \\\n",
       "0                      {'Процент_пропусков': 0.7324}   \n",
       "1                                              int64   \n",
       "2  [51, 82, 105, 147, 152, 239, 240, 250, 278, 41...   \n",
       "\n",
       "                                       preschool_col  ...  \\\n",
       "0                     {'Процент_пропусков': 88.1213}  ...   \n",
       "1                                              int64  ...   \n",
       "2  [1, 2, 5, 7, 8, 9, 10, 11, 12, 13, 14, 15, 16,...  ...   \n",
       "\n",
       "                                      elementary_col  \\\n",
       "0                      {'Процент_пропусков': 22.039}   \n",
       "1                                              int64   \n",
       "2  [3, 6, 8, 18, 23, 35, 38, 43, 66, 70, 71, 78, ...   \n",
       "\n",
       "                                 elementary_distance  \\\n",
       "0                     {'Процент_пропусков': 22.0694}   \n",
       "1                                            float64   \n",
       "2  [3, 6, 8, 18, 23, 24, 35, 38, 43, 66, 70, 71, ...   \n",
       "\n",
       "                                   elementary_rating  \\\n",
       "0                      {'Процент_пропусков': 22.764}   \n",
       "1                                            float64   \n",
       "2  [3, 6, 8, 18, 23, 35, 38, 43, 63, 66, 70, 71, ...   \n",
       "\n",
       "                                          middle_col  \\\n",
       "0                     {'Процент_пропусков': 26.9333}   \n",
       "1                                              int64   \n",
       "2  [3, 4, 8, 13, 14, 16, 18, 23, 26, 29, 30, 40, ...   \n",
       "\n",
       "                                     middle_distance  \\\n",
       "0                     {'Процент_пропусков': 26.9363}   \n",
       "1                                            float64   \n",
       "2  [3, 4, 8, 13, 14, 16, 18, 23, 26, 29, 30, 40, ...   \n",
       "\n",
       "                                       middle_rating  \\\n",
       "0                     {'Процент_пропусков': 29.0026}   \n",
       "1                                            float64   \n",
       "2  [1, 3, 4, 8, 13, 14, 16, 18, 23, 26, 29, 30, 3...   \n",
       "\n",
       "                                            high_col  \\\n",
       "0                      {'Процент_пропусков': 4.4439}   \n",
       "1                                              int64   \n",
       "2  [3, 14, 23, 66, 71, 106, 126, 133, 161, 179, 2...   \n",
       "\n",
       "                                       high_distance  \\\n",
       "0                      {'Процент_пропусков': 4.4927}   \n",
       "1                                            float64   \n",
       "2  [3, 14, 23, 66, 71, 106, 126, 133, 161, 179, 2...   \n",
       "\n",
       "                                         high_rating  \\\n",
       "0                       {'Процент_пропусков': 5.482}   \n",
       "1                                            float64   \n",
       "2  [3, 14, 23, 66, 71, 82, 106, 126, 133, 138, 16...   \n",
       "\n",
       "                                          Price/sqft  \n",
       "0                     {'Процент_пропусков': 17.5194}  \n",
       "1                                              int64  \n",
       "2  [2, 20, 33, 34, 35, 40, 41, 42, 46, 50, 51, 54...  \n",
       "\n",
       "[3 rows x 22 columns]"
      ]
     },
     "metadata": {},
     "output_type": "display_data"
    }
   ],
   "source": [
    "# Функция возвращает словарь с именами столбцов и индексами нулевых значений \n",
    "def index_null_df(df):\n",
    "    df_columns = df.columns.to_list()\n",
    "    dict_null = {}\n",
    "\n",
    "    for x in df_columns:\n",
    "        index_null = df[df[x].isna()].index.tolist()\n",
    "        \n",
    "        index_o = df[df[x] == '0'].index.tolist()\n",
    "        index_o = df[df[x] == 0].index.tolist()\n",
    "        \n",
    "        index_null = index_null + index_o\n",
    "        if len(index_null) != 0:\n",
    "            dict_percentage = {}\n",
    "            percentage_null = round((len(index_null) / df.shape[0] * 100), 4)\n",
    "            dict_percentage['Процент_пропусков'] = percentage_null\n",
    "            dict_null[x] = [dict_percentage, df[x].dtype, index_null]            \n",
    "    return dict_null\n",
    "\n",
    "dict_null_columns = index_null_df(data_1)\n",
    "print(f'Статистика по нулевым значениям в столбцах:')\n",
    "df_dict = pd.DataFrame(dict_null_columns)\n",
    "display(df_dict.head(3))"
   ]
  },
  {
   "cell_type": "code",
   "execution_count": 15,
   "metadata": {},
   "outputs": [
    {
     "data": {
      "text/plain": [
       "dict_keys(['status', 'propertyType', 'street', 'baths', 'city', 'sqft', 'beds', 'stories', 'target', 'preschool_col', 'preschool_distance', 'preschool_rating', 'elementary_col', 'elementary_distance', 'elementary_rating', 'middle_col', 'middle_distance', 'middle_rating', 'high_col', 'high_distance', 'high_rating', 'Price/sqft'])"
      ]
     },
     "execution_count": 15,
     "metadata": {},
     "output_type": "execute_result"
    }
   ],
   "source": [
    "dict_null_columns.keys()"
   ]
  },
  {
   "cell_type": "markdown",
   "metadata": {},
   "source": [
    "Из признаков с пропусками пришлось удалить три, их обработка приводила к аварийному завершению kernel. Без вывода номера ошибки. Поиск возможных вариантов решения проблемы ни к чему не привёл. \n",
    "\n",
    "Не смотря на это итоговая модель показала очень хорошие результаты"
   ]
  },
  {
   "cell_type": "code",
   "execution_count": 23,
   "metadata": {},
   "outputs": [
    {
     "data": {
      "text/plain": [
       "dict_keys(['status', 'propertyType', 'street', 'city', 'sqft', 'target', 'high_col', 'high_distance', 'high_rating', 'Price/sqft'])"
      ]
     },
     "execution_count": 23,
     "metadata": {},
     "output_type": "execute_result"
    }
   ],
   "source": [
    "# Предполагаю, что признаки имеющие процент пропусков более 20 в результате обучения ML модели пропуски могут заполняться в итоге не\n",
    "# совсем корректными данными. Поэтому ограничиваю признаки для обучаемой ML модели.\n",
    "# В функции отбираются имена признаков с пропусками боолее 20% и удаляются из списка признаков на заполнение пропусков\n",
    "for x in df_dict.columns:\n",
    "    if df_dict.iloc[0][x]['Процент_пропусков'] > 20:\n",
    "        dict_null_columns.pop(x)\n",
    "\n",
    "dict_null_columns.keys()"
   ]
  },
  {
   "cell_type": "code",
   "execution_count": null,
   "metadata": {},
   "outputs": [],
   "source": [
    "# Так же из списка признаков на заполнение пропусков удаляю глобальный таргет и признаки при обработке которых аварийно завершалась работа\n",
    "# ядра kernel, предполагаю из-за выхода за размер памяти на GPU\n",
    "dict_null_columns.pop('target')\n",
    "dict_null_columns.pop('street')\n",
    "dict_null_columns.pop('city')\n",
    "dict_null_columns.pop('sqft')"
   ]
  },
  {
   "cell_type": "code",
   "execution_count": 25,
   "metadata": {},
   "outputs": [
    {
     "data": {
      "text/plain": [
       "dict_keys(['status', 'propertyType', 'high_col', 'high_distance', 'high_rating', 'Price/sqft'])"
      ]
     },
     "execution_count": 25,
     "metadata": {},
     "output_type": "execute_result"
    }
   ],
   "source": [
    "dict_null_columns.keys()"
   ]
  },
  {
   "cell_type": "markdown",
   "metadata": {},
   "source": [
    "### Замена пропусков в данных\n",
    "\n",
    "Для замены пропусков использую метод с обученной ML моделью на данных с таргетом - признаком в котором необходмо заменить пропуски.\n",
    "\n",
    "Использую CatBoost с GPU, что в несколько раз уменьшает время обучения модели в отличии от RandomForest. \n",
    "\n",
    "В зависимости от таргета типа int или object используются вариации классификатор или регрессор.\n",
    "\n",
    "Чтобы код небыл молчаливым, сделал вывод в процессе его работы:\n",
    "* имя признака в обработке\n",
    "* результат работы CanBoost\n",
    "* метрика, при обучении модели ml, по которой можно судить насколько верные данные для заполнения пропусков"
   ]
  },
  {
   "cell_type": "markdown",
   "metadata": {},
   "source": [
    "Признак Price/sqft на параметрах CatBoost по умолчанию показывал плохую метрику в районе 0.11. Пришлось для этого признака выделить отдельный ML для лучшего обучения"
   ]
  },
  {
   "cell_type": "code",
   "execution_count": 27,
   "metadata": {},
   "outputs": [
    {
     "name": "stdout",
     "output_type": "stream",
     "text": [
      "Обучение ML модели на признаке \u001b[3m\u001b[33mstatus\u001b[0m\n",
      "0:\tlearn: 1.7112257\ttotal: 80.6ms\tremaining: 3.95s\n",
      "49:\tlearn: 0.3643176\ttotal: 3.87s\tremaining: 0us\n",
      "Метрика f1: \u001b[3m\u001b[33m{0.9052256672479532}\u001b[0m\n",
      "Заполняю пропуски в признаке \u001b[3m\u001b[33mstatus\u001b[0m\n",
      "Обучение ML модели на признаке \u001b[3m\u001b[33mpropertyType\u001b[0m\n",
      "0:\tlearn: 2.1753903\ttotal: 581ms\tremaining: 28.5s\n",
      "49:\tlearn: 0.8427878\ttotal: 28.3s\tremaining: 0us\n",
      "Метрика f1: \u001b[3m\u001b[33m{0.7535985576212574}\u001b[0m\n",
      "Заполняю пропуски в признаке \u001b[3m\u001b[33mpropertyType\u001b[0m\n",
      "Обучение ML модели на признаке \u001b[3m\u001b[33mhigh_col\u001b[0m\n",
      "0:\tlearn: 1.1105233\ttotal: 29.4ms\tremaining: 2.91s\n",
      "99:\tlearn: 0.2450699\ttotal: 2.95s\tremaining: 0us\n",
      "Метрика R2: \u001b[3m\u001b[33m{0.9613197982399265}\u001b[0m\n",
      "Заполняю пропуски в признаке \u001b[3m\u001b[33mhigh_col\u001b[0m\n",
      "Обучение ML модели на признаке \u001b[3m\u001b[33mhigh_distance\u001b[0m\n",
      "0:\tlearn: 7.8847682\ttotal: 28.6ms\tremaining: 2.83s\n",
      "99:\tlearn: 3.0855469\ttotal: 2.79s\tremaining: 0us\n",
      "Метрика R2: \u001b[3m\u001b[33m{0.8349560374673263}\u001b[0m\n",
      "Заполняю пропуски в признаке \u001b[3m\u001b[33mhigh_distance\u001b[0m\n",
      "Обучение ML модели на признаке \u001b[3m\u001b[33mhigh_rating\u001b[0m\n",
      "0:\tlearn: 3.9106439\ttotal: 31.3ms\tremaining: 3.09s\n",
      "99:\tlearn: 1.3786669\ttotal: 2.98s\tremaining: 0us\n",
      "Метрика R2: \u001b[3m\u001b[33m{0.8991204205815414}\u001b[0m\n",
      "Заполняю пропуски в признаке \u001b[3m\u001b[33mhigh_rating\u001b[0m\n",
      "Обучение ML модели на признаке \u001b[3m\u001b[33mPrice/sqft\u001b[0m\n",
      "0:\tlearn: 20569.8405812\ttotal: 646ms\tremaining: 1m 16s\n",
      "100:\tlearn: 2585.9136675\ttotal: 1m 6s\tremaining: 12.6s\n",
      "119:\tlearn: 2342.8596746\ttotal: 1m 19s\tremaining: 0us\n",
      "Метрика R2: \u001b[3m\u001b[33m{0.9148887341403986}\u001b[0m\n",
      "Обучение ML модели на признаке \u001b[3m\u001b[33mPrice/sqft\u001b[0m\n",
      "0:\tlearn: 20600.7427353\ttotal: 33ms\tremaining: 3.26s\n",
      "99:\tlearn: 6075.9280194\ttotal: 2.87s\tremaining: 0us\n",
      "Метрика R2: \u001b[3m\u001b[33m{0.9093801948518319}\u001b[0m\n",
      "Заполняю пропуски в признаке \u001b[3m\u001b[33mPrice/sqft\u001b[0m\n",
      "CPU times: user 3min 37s, sys: 17.9 s, total: 3min 55s\n",
      "Wall time: 3min 59s\n"
     ]
    }
   ],
   "source": [
    "%%time\n",
    "for col_0 in dict_null_columns.keys():\n",
    "    if col_0 == 'Price/sqft':\n",
    "        features = data_1.columns.difference([col_0])  # All columns except 'stories'\n",
    "        target = col_0\n",
    "\n",
    "        # Convert categorical features to strings\n",
    "        categorical_features = data_1[features].select_dtypes(include=['object']).columns\n",
    "        for feature in categorical_features:\n",
    "            data_1[feature] = data_1[feature].astype(str)\n",
    "\n",
    "        mask1 = data_1[col_0].isna() != True\n",
    "        mask2 = data_1[col_0] != 0.0\n",
    "\n",
    "        data_2 = data_1[mask1 & mask2]\n",
    "\n",
    "        data_2.reset_index(inplace=True, drop=True)\n",
    "\n",
    "        features = data_2.columns.difference([col_0])  # All columns except 'stories'\n",
    "        target = col_0\n",
    "\n",
    "        X = data_2[features]\n",
    "        y = data_2[target]\n",
    "        # Разделим выборку на тренировочную и тестовую\n",
    "        X_train, X_test, y_train, y_test = train_test_split(\n",
    "            X, y, test_size=0.2, random_state=42)\n",
    "\n",
    "        # Создание списка номеров признаков с типом объект\n",
    "        categorical_features_indices = np.where(X_train.dtypes == 'object')[0]\n",
    "\n",
    "        # Create CatBoost pools for training and testing\n",
    "        train_pool = Pool(data=X_train, label=y_train, cat_features = categorical_features_indices)\n",
    "        test_pool = Pool(data=X_test, label=y_test, cat_features = categorical_features_indices)\n",
    "\n",
    "        print(f'Обучение ML модели на признаке \\033[3m\\033[33m{col_0}\\033[0m')\n",
    "        # Train the CatBoost model\n",
    "        model = CatBoostRegressor(iterations=120, depth=15, learning_rate=0.1, loss_function='RMSE', nan_mode='Min', verbose=100, task_type=\"GPU\",\n",
    "                           devices='0')\n",
    "        model.fit(train_pool)\n",
    "        print('Метрика R2: \\033[3m\\033[33m{}\\033[0m'.format({metrics.r2_score(y_test, model.predict(X_test))}))\n",
    "    \n",
    "    if data_1[col_0].dtypes != 'object':\n",
    "        features = data_1.columns.difference([col_0])  # All columns except 'stories'\n",
    "        target = col_0\n",
    "\n",
    "        # Convert categorical features to strings\n",
    "        categorical_features = data_1[features].select_dtypes(include=['object']).columns\n",
    "        for feature in categorical_features:\n",
    "            data_1[feature] = data_1[feature].astype(str)\n",
    "\n",
    "        mask1 = data_1[col_0].isna() != True\n",
    "        mask2 = data_1[col_0] != 0.0\n",
    "\n",
    "        data_2 = data_1[mask1 & mask2]\n",
    "\n",
    "        data_2.reset_index(inplace=True, drop=True)\n",
    "\n",
    "        features = data_2.columns.difference([col_0])  # All columns except 'stories'\n",
    "        target = col_0\n",
    "\n",
    "        X = data_2[features]\n",
    "        y = data_2[target]\n",
    "        # Разделим выборку на тренировочную и тестовую\n",
    "        X_train, X_test, y_train, y_test = train_test_split(\n",
    "            X, y, test_size=0.2, random_state=42)\n",
    "\n",
    "        # Создание списка номеров признаков с типом объект\n",
    "        categorical_features_indices = np.where(X_train.dtypes == 'object')[0]\n",
    "\n",
    "        # Create CatBoost pools for training and testing\n",
    "        train_pool = Pool(data=X_train, label=y_train, cat_features = categorical_features_indices)\n",
    "        test_pool = Pool(data=X_test, label=y_test, cat_features = categorical_features_indices)\n",
    "\n",
    "        print(f'Обучение ML модели на признаке \\033[3m\\033[33m{col_0}\\033[0m')\n",
    "        # Train the CatBoost model\n",
    "        model = CatBoostRegressor(iterations=100, depth=7, learning_rate=0.1, loss_function='RMSE', nan_mode='Min', verbose=100, task_type=\"GPU\",\n",
    "                           devices='0')\n",
    "        model.fit(train_pool)\n",
    "        print('Метрика R2: \\033[3m\\033[33m{}\\033[0m'.format({metrics.r2_score(y_test, model.predict(X_test))}))\n",
    "    \n",
    "    else:\n",
    "\n",
    "        features = data_1.columns.difference([col_0])  # Разделение данных на тренировочные и таргет\n",
    "        target = col_0\n",
    "\n",
    "        # Convert categorical features to strings\n",
    "        categorical_features = data_1[features].select_dtypes(include=['object']).columns\n",
    "        for feature in categorical_features:\n",
    "            data_1[feature] = data_1[feature].astype(str)\n",
    "\n",
    "        mask1 = data_1[col_0].isna() != True\n",
    "        mask2 = data_1[col_0] != 0.0\n",
    "\n",
    "        data_2 = data_1[mask1 & mask2]\n",
    "\n",
    "        data_2.reset_index(inplace=True, drop=True)\n",
    "\n",
    "        features = data_2.columns.difference([col_0])  # Разделение данных на тренировочные и таргет\n",
    "        target = col_0\n",
    "\n",
    "        X = data_2[features]\n",
    "        y = data_2[target]\n",
    "        # Разделим выборку на тренировочную и тестовую\n",
    "        X_train, X_test, y_train, y_test = train_test_split(\n",
    "            X, y, test_size=0.2, random_state=42)\n",
    "\n",
    "        # Создание списка номеров признаков с типом объект\n",
    "        categorical_features_indices = np.where(X_train.dtypes == 'object')[0]\n",
    "\n",
    "        # Create CatBoost pools for training and testing\n",
    "        train_pool = Pool(data=X_train, label=y_train, cat_features = categorical_features_indices)\n",
    "        test_pool = Pool(data=X_test, label=y_test, cat_features = categorical_features_indices)\n",
    "\n",
    "        print(f'Обучение ML модели на признаке \\033[3m\\033[33m{col_0}\\033[0m')\n",
    "        # Train the CatBoost model\n",
    "        model = CatBoostClassifier(iterations=50, depth=2, learning_rate=0.1, loss_function='MultiClass', nan_mode='Min', verbose=100, task_type=\"GPU\",\n",
    "                           devices='0')\n",
    "        model.fit(train_pool)\n",
    "        print('Метрика f1: \\033[3m\\033[33m{}\\033[0m'.format({metrics.f1_score(y_test, model.predict(X_test), average='micro')}))\n",
    "\n",
    "    mask1_0 = data_1[col_0].isna() == True\n",
    "    mask2_0 = data_1[col_0] == 0.0\n",
    "\n",
    "    index_0 = np.where(mask1_0 | mask2_0)[0]\n",
    "    \n",
    "    X_pred = data_1[features]\n",
    "    y_pred = data_1[target]\n",
    "\n",
    "    print(f'Заполняю пропуски в признаке \\033[3m\\033[33m{col_0}\\033[0m')\n",
    "    for y in index_0:\n",
    "        data_1.loc[y, col_0] = model.predict(X_pred.iloc[y])"
   ]
  },
  {
   "cell_type": "code",
   "execution_count": 28,
   "metadata": {},
   "outputs": [],
   "source": [
    "data_remp_zero = data_1.copy()"
   ]
  },
  {
   "cell_type": "code",
   "execution_count": null,
   "metadata": {},
   "outputs": [],
   "source": [
    "data_1 = data_remp_zero.copy()"
   ]
  },
  {
   "cell_type": "markdown",
   "metadata": {},
   "source": [
    "### Обучение ML модели RandomForest "
   ]
  },
  {
   "cell_type": "code",
   "execution_count": 29,
   "metadata": {},
   "outputs": [
    {
     "name": "stdout",
     "output_type": "stream",
     "text": [
      "Уникальных значений в status: 10\n",
      "Уникальных значений в propertyType: 33\n",
      "Уникальных значений в street: 302862\n",
      "Уникальных значений в fireplace: 13\n",
      "Уникальных значений в city: 1848\n",
      "Уникальных значений в zipcode: 4433\n",
      "Уникальных значений в state: 39\n",
      "Уникальных значений в PrivatePool: 2\n",
      "Уникальных значений в MlsId: 218861\n",
      "Уникальных значений в preschool_name: 2113\n",
      "Уникальных значений в elementary_name: 11985\n",
      "Уникальных значений в middle_name: 3738\n",
      "Уникальных значений в high_name: 10715\n",
      "Уникальных значений в Year built: 220\n",
      "Уникальных значений в Remodeled year: 147\n",
      "Уникальных значений в Heating: 20\n",
      "Уникальных значений в Cooling: 8\n",
      "Уникальных значений в Parking: 25\n",
      "Уникальных значений в lotsize: 3875\n",
      "Список признаков с большим количеством уникальных значений: ['street', 'zipcode', 'MlsId', 'preschool_name', 'elementary_name', 'middle_name', 'high_name', 'lotsize']\n"
     ]
    }
   ],
   "source": [
    "data_1['Year built'] = data_1['Year built'].replace('no data', '0')\n",
    "data_1['Remodeled year'] = data_1['Remodeled year'].replace('no data', '0')\n",
    "data_1['stories'] = data_1['stories'].apply(lambda x: float(str(x).replace('no data', '0')))\n",
    "data_1['lotsize'] = data_1['lotsize'].replace('no data', '0')\n",
    "\n",
    "# Разделение признаков типа object на варианты кодирования\n",
    "# Кодировка выявленных признаков с числом уникальных значений до 1848 (выбрано в ручную исходя из общей таблицы)\n",
    "# Удаление исходных признаков кроме тех, что кодировались с заменой в том же столбце (бинарный вариант)\n",
    "list_drop = []\n",
    "list_34 = []\n",
    "lab = LabelEncoder()\n",
    "for x in data_1.columns:\n",
    "    if data_1[x].dtype == 'object':\n",
    "        if data_1[x].nunique() == 2:\n",
    "            data_1[x] = data_1[x].apply(lambda x: 0 if x == 'no' else 1)\n",
    "        if 2 < data_1[x].nunique() <= 15:\n",
    "            list_drop.append(x)\n",
    "            data_1[x + '_codir'] = lab.fit_transform(data_1[x])\n",
    "        if 15 < data_1[x].nunique() <= 1848:\n",
    "            list_drop.append(x)\n",
    "            bin_encoder = ce.BinaryEncoder(cols=[x]) # указываем столбец для кодирования\n",
    "            type_bin = bin_encoder.fit_transform(data_1[x])\n",
    "            data_1 = pd.concat([data_1, type_bin], axis=1)\n",
    "        if data_1[x].nunique() > 1848:\n",
    "            list_34.append(x)\n",
    "        print(f'Уникальных значений в {x}: {data_1[x].nunique()}')\n",
    "\n",
    "data_1.drop(list_drop, axis=1, inplace=True)\n",
    "print(f'Список признаков с большим количеством уникальных значений: {list_34}')"
   ]
  },
  {
   "cell_type": "code",
   "execution_count": 30,
   "metadata": {},
   "outputs": [
    {
     "data": {
      "text/plain": [
       "['status',\n",
       " 'propertyType',\n",
       " 'fireplace',\n",
       " 'city',\n",
       " 'state',\n",
       " 'Year built',\n",
       " 'Remodeled year',\n",
       " 'Heating',\n",
       " 'Cooling',\n",
       " 'Parking']"
      ]
     },
     "execution_count": 30,
     "metadata": {},
     "output_type": "execute_result"
    }
   ],
   "source": [
    "# Список удалённых столбцов после кодирования\n",
    "list_drop"
   ]
  },
  {
   "cell_type": "code",
   "execution_count": 31,
   "metadata": {},
   "outputs": [
    {
     "name": "stdout",
     "output_type": "stream",
     "text": [
      "street\n",
      "zipcode\n",
      "MlsId\n",
      "preschool_name\n",
      "elementary_name\n",
      "middle_name\n",
      "high_name\n",
      "lotsize\n"
     ]
    }
   ],
   "source": [
    "# Кодирование признаков с большим числом уникальных значений\n",
    "# Через np.array что просто нереально сокращает время процесса\n",
    "multi = MultiLabelBinarizer()\n",
    "for x in list_34:\n",
    "    print(x)\n",
    "    data_1[x] = data_1[x].fillna('0')\n",
    "    mls_kodir = multi.fit_transform(data_1[x])\n",
    "    np_temp = np.empty((mls_kodir.shape[0], 1))\n",
    "    for ind in range(data_1.shape[0]):\n",
    "        np_temp[ind] = mls_kodir[ind].mean()\n",
    "        \n",
    "    data_1[x] = pd.DataFrame(np_temp)"
   ]
  },
  {
   "cell_type": "code",
   "execution_count": 32,
   "metadata": {},
   "outputs": [],
   "source": [
    "X = data_1.drop('target', axis=1)\n",
    "y = data_1['target']\n",
    "# Разделим выборку на тренировочную и тестовую\n",
    "X_train, X_test, y_train, y_test = train_test_split(\n",
    "    X, y, test_size=0.2, random_state=42)"
   ]
  },
  {
   "cell_type": "code",
   "execution_count": 34,
   "metadata": {},
   "outputs": [
    {
     "name": "stdout",
     "output_type": "stream",
     "text": [
      "Метрика r2 ML модели RandomForestRegressor \u001b[3m\u001b[33m0.9393422210736547\u001b[0m\n",
      "CPU times: user 10min 48s, sys: 222 ms, total: 10min 48s\n",
      "Wall time: 10min 48s\n"
     ]
    }
   ],
   "source": [
    "%%time\n",
    "\n",
    "rand_for = RandomForestRegressor()\n",
    "model = rand_for.fit(X_train, y_train)\n",
    "y_pred = model.predict(X_test)\n",
    "metrica_rforest_with_out_zero = metrics.r2_score(y_test, y_pred)\n",
    "print(f'Метрика r2 ML модели RandomForestRegressor \\033[3m\\033[33m{metrica_rforest_with_out_zero}\\033[0m')"
   ]
  },
  {
   "cell_type": "code",
   "execution_count": 35,
   "metadata": {},
   "outputs": [
    {
     "data": {
      "image/png": "[encoded data removed]",
      "text/plain": [
       "<Figure size 1300x1500 with 1 Axes>"
      ]
     },
     "metadata": {},
     "output_type": "display_data"
    }
   ],
   "source": [
    "# Вывод графика с важностью признаков для target\n",
    "fig, ax = plt.subplots(figsize=(13, 15)) #фигура + координатная плоскость\n",
    "feature = X_train.columns #признаки\n",
    "feature_importances = model.feature_importances_ #важность признаков\n",
    "#Строим столбчатую диаграмму\n",
    "sns.barplot(x=feature_importances, y=feature, ax=ax);\n",
    "#Добавляем подпись графику, осям абсцисс и ординат\n",
    "ax.set_title('Bar plot feature importances')\n",
    "ax.set_xlabel('Features')\n",
    "ax.set_ylabel('Importances');"
   ]
  },
  {
   "cell_type": "markdown",
   "metadata": {},
   "source": [
    "После замены пропусков в данных sqft и Price/sqft приобрели ещё более выраженное воияние на target"
   ]
  },
  {
   "cell_type": "markdown",
   "metadata": {},
   "source": [
    "### Обучение ML модели Catboost \n",
    "\n",
    "так как CatBoost не нуждается в предварительной кодировке данных типа object. Кодировку не провожу."
   ]
  },
  {
   "cell_type": "code",
   "execution_count": 36,
   "metadata": {},
   "outputs": [],
   "source": [
    "data_1 = data_remp_zero.copy()"
   ]
  },
  {
   "cell_type": "code",
   "execution_count": 37,
   "metadata": {},
   "outputs": [
    {
     "name": "stdout",
     "output_type": "stream",
     "text": [
      "0:\tlearn: 227483.5307426\ttotal: 83.4ms\tremaining: 8.26s\n",
      "99:\tlearn: 60424.4630709\ttotal: 7.81s\tremaining: 0us\n",
      "Метрика R2: \u001b[3m\u001b[33m{0.9374989543003983}\u001b[0m\n",
      "CPU times: user 20.3 s, sys: 2.32 s, total: 22.6 s\n",
      "Wall time: 24.6 s\n"
     ]
    }
   ],
   "source": [
    "%%time\n",
    "features = data_1.columns.difference(['target'])  # All columns except 'stories'\n",
    "target = 'target'\n",
    "\n",
    "# Convert categorical features to strings\n",
    "categorical_features = data_1[features].select_dtypes(include=['object']).columns\n",
    "for feature in categorical_features:\n",
    "    data_1[feature] = data_1[feature].astype(str)\n",
    "\n",
    "X = data_1[features]\n",
    "y = data_1[target]\n",
    "# Разделим выборку на тренировочную и тестовую\n",
    "X_train, X_test, y_train, y_test = train_test_split(\n",
    "    X, y, test_size=0.2, random_state=42)\n",
    "\n",
    "# Создание списка номеров признаков с типом объект\n",
    "categorical_features_indices = np.where(X_train.dtypes == 'object')[0]\n",
    "\n",
    "# Create CatBoost pools for training and testing\n",
    "train_pool = Pool(data=X_train, label=y_train, cat_features = categorical_features_indices)\n",
    "test_pool = Pool(data=X_test, label=y_test, cat_features = categorical_features_indices)\n",
    "\n",
    "# Train the CatBoost model\n",
    "model = CatBoostRegressor(iterations=100, depth=11, learning_rate=0.1, loss_function='RMSE', nan_mode='Min', verbose=100, task_type=\"GPU\",\n",
    "                           devices='0')\n",
    "model.fit(train_pool)\n",
    "metrica_catboost_with_out_zero = metrics.r2_score(y_test, model.predict(X_test))\n",
    "print('Метрика R2: \\033[3m\\033[33m{}\\033[0m'.format({metrica_catboost_with_out_zero}))"
   ]
  },
  {
   "cell_type": "markdown",
   "metadata": {},
   "source": [
    "### <center>Итоговая таблица по моделям обучения"
   ]
  },
  {
   "cell_type": "code",
   "execution_count": 70,
   "metadata": {},
   "outputs": [],
   "source": [
    "itog = pd.DataFrame(data = [[metrica_rforest_with_zero, metrica_catboost_with_zero, metrica_rforest_with_out_zero,\\\n",
    "                              metrica_catboost_with_out_zero], ['9m 21s', '23.2s', '10m 48s', '24.6s']],\\\n",
    "                                columns=[('Без замены пропусков', 'RandomForestRegressor'), ('Без замены пропусков', 'CatBoostRegressor'),\\\n",
    "                        ('С заменой пропусков', 'RandomForestRegressor'), ('С заменой пропусков', 'CatBoostRegressor')],\\\n",
    "                          index=['Метрика', 'Время'])\n",
    "itog.columns = pd.MultiIndex.from_tuples(itog.columns)"
   ]
  },
  {
   "cell_type": "code",
   "execution_count": 72,
   "metadata": {},
   "outputs": [
    {
     "data": {
      "text/html": [
       "<div>\n",
       "<style scoped>\n",
       "    .dataframe tbody tr th:only-of-type {\n",
       "        vertical-align: middle;\n",
       "    }\n",
       "\n",
       "    .dataframe tbody tr th {\n",
       "        vertical-align: top;\n",
       "    }\n",
       "\n",
       "    .dataframe thead tr th {\n",
       "        text-align: left;\n",
       "    }\n",
       "</style>\n",
       "<table border=\"1\" class=\"dataframe\">\n",
       "  <thead>\n",
       "    <tr>\n",
       "      <th></th>\n",
       "      <th colspan=\"2\" halign=\"left\">Без замены пропусков</th>\n",
       "      <th colspan=\"2\" halign=\"left\">С заменой пропусков</th>\n",
       "    </tr>\n",
       "    <tr>\n",
       "      <th></th>\n",
       "      <th>RandomForestRegressor</th>\n",
       "      <th>CatBoostRegressor</th>\n",
       "      <th>RandomForestRegressor</th>\n",
       "      <th>CatBoostRegressor</th>\n",
       "    </tr>\n",
       "  </thead>\n",
       "  <tbody>\n",
       "    <tr>\n",
       "      <th>Метрика</th>\n",
       "      <td>0.913048</td>\n",
       "      <td>0.920369</td>\n",
       "      <td>0.939342</td>\n",
       "      <td>0.937499</td>\n",
       "    </tr>\n",
       "    <tr>\n",
       "      <th>Время</th>\n",
       "      <td>9m 21s</td>\n",
       "      <td>23.2s</td>\n",
       "      <td>10m 48s</td>\n",
       "      <td>24.6s</td>\n",
       "    </tr>\n",
       "  </tbody>\n",
       "</table>\n",
       "</div>"
      ],
      "text/plain": [
       "         Без замены пропусков                     С заменой пропусков  \\\n",
       "        RandomForestRegressor CatBoostRegressor RandomForestRegressor   \n",
       "Метрика              0.913048          0.920369              0.939342   \n",
       "Время                  9m 21s             23.2s               10m 48s   \n",
       "\n",
       "                           \n",
       "        CatBoostRegressor  \n",
       "Метрика          0.937499  \n",
       "Время               24.6s  "
      ]
     },
     "execution_count": 72,
     "metadata": {},
     "output_type": "execute_result"
    }
   ],
   "source": [
    "itog"
   ]
  },
  {
   "cell_type": "markdown",
   "metadata": {},
   "source": [
    "### В итоге можно сделать выводы:\n",
    "\n",
    "* Хорошая очистка данных сразу показывает хорошие результаты при обучении ML моделей.\n",
    "    * разница между Random Forest и Cat Boost оказались очень близки. разника в 0.007 но время на выполнение обучения просто не сопоставимо\n",
    "        * 9 минут 21 секунда Random Forest\n",
    "        * 23.2 секунды CatBoost\n",
    "* После замены пропусков в выбранных признаках метрика чуть подросла, но время на выполнение обучения опять не сравнимо:\n",
    "    * 0.026 на Random Forest 10 минут 48 секунд\n",
    "    * 0.017 на CatBoost 24.6 секунды\n",
    "\n",
    "Для себя делаю вывод, CatBoost надо досконально изучать и использовать в дальнейшем. \n",
    "\n",
    "Ну а модель для предсказания цены на нежвижимость получилась качественная. Судя по метрике.\n"
   ]
  }
 ],
 "metadata": {
  "kernelspec": {
   "display_name": "test",
   "language": "python",
   "name": "python3"
  },
  "language_info": {
   "codemirror_mode": {
    "name": "ipython",
    "version": 3
   },
   "file_extension": ".py",
   "mimetype": "text/x-python",
   "name": "python",
   "nbconvert_exporter": "python",
   "pygments_lexer": "ipython3",
   "version": "3.11.9"
  }
 },
 "nbformat": 4,
 "nbformat_minor": 2
}
